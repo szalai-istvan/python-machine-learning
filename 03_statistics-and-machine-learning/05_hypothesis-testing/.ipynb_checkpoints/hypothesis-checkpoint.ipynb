{
 "cells": [
  {
   "cell_type": "markdown",
   "id": "eed86463",
   "metadata": {},
   "source": [
    "<h1 style=\"text-align:center;\">Hypothesis testing</h1>\n",
    "<hr style=\"width:65%;height:2px;border-width:1;color:gray;background-color:gray;\">\n",
    "<p>DV (Dependent Variable) means the outcome, the thing that we're trying to explain. IV (Independent Variable) is the data that we hope will explain the DVs.</p>\n",
    "\n",
    "<pre>\n",
    "<p>\n",
    "    IV: Soil moisture (we measure it and we may have control over it)\n",
    "    DV: Effect of soil moisture on plant growth (what we're trying to explain)\n",
    "</p>\n",
    "</pre>\n",
    "<hr style=\"width:65%;height:2px;border-width:1;color:gray;background-color:gray;\">\n",
    "\n",
    "<p>Models are simplified representations of the data. Typically, an equation explaining a feature.</p>\n",
    "<p>Hypothesis testing is model comparison.</p>\n",
    "<p>A hypothesis is a falsifiable claim that typically requires verification from observations or experiments. A hypothesis allows for predictions about future data.</p>\n",
    "\n",
    "<p>A good hypothesis is:</p>\n",
    "<ul>\n",
    "    <li>Clear</li>\n",
    "    <li>Specific</li>\n",
    "    <li>Falsifiable</li>\n",
    "    <li>Based on prior data or theory</li>\n",
    "    <li>Leads to statistical test</li>\n",
    "    <li>A statement, not a question</li>\n",
    "    <li>A prediction about the direction of the event</li>\n",
    "    <li>Relevant for unobserved data and to understand nature</li>\n",
    "</ul>\n",
    "\n",
    "<p>Null hypothesis (H0) is always that there's no connection between data, and we try to prove or disprove it. We have another, the alternate hypothesis. H0 is \"no effect\".</p>"
   ]
  },
  {
   "cell_type": "markdown",
   "id": "96aa88a5",
   "metadata": {},
   "source": [
    "<h1 style=\"text-align:center;\">P values</h1>\n",
    "<hr style=\"width:65%;height:2px;border-width:1;color:gray;background-color:gray;\">\n",
    "<p>The probability of observing the sample data given that H0 is true. Small p value means the data is unlikely if H0 is true.</p>\n",
    "<p>Everey distribution can be transformed into a prbability distribution.</p>\n",
    "<p>There are some numbers worth memorizing, especially for normal distributions:</p>\n",
    "<ul>\n",
    "    <li>68,3% of data is in mean +/- 1 standard deviation</li>\n",
    "    <li>95,5% of data is in mean +/- 2 standard deviation</li>\n",
    "    <li>99,7% of data is in mean +/- 3 standard deviation</li>\n",
    "</ul>\n",
    "\n",
    "<p>p-z pairs te memorize for one-tailed tests:</p>\n",
    "<ul>\n",
    "    <li>p=0.05, z=1.64</li>\n",
    "    <li>p=0.01, z=2.32</li>\n",
    "    <li>p=0.001, z=3.09</li>\n",
    "</ul>\n",
    "<p>Meaning of z value is if we take .05 as our statistical significance threshold, then observed data will need to be 1.64 std deviations away from H0 mean to be considered statistically significant.</p>\n",
    "\n",
    "<p>p-z pairs te memorize for two-tailed tests:</p>\n",
    "<ul>\n",
    "    <li>p=0.05, z=1.96</li>\n",
    "    <li>p=0.01, z=2.58</li>\n",
    "    <li>p=0.001, z=3.29</li>\n",
    "</ul>"
   ]
  },
  {
   "cell_type": "markdown",
   "id": "6998756d",
   "metadata": {},
   "source": []
  },
  {
   "cell_type": "markdown",
   "id": "c5b579ba",
   "metadata": {},
   "source": []
  }
 ],
 "metadata": {
  "kernelspec": {
   "display_name": "Python 3 (ipykernel)",
   "language": "python",
   "name": "python3"
  },
  "language_info": {
   "codemirror_mode": {
    "name": "ipython",
    "version": 3
   },
   "file_extension": ".py",
   "mimetype": "text/x-python",
   "name": "python",
   "nbconvert_exporter": "python",
   "pygments_lexer": "ipython3",
   "version": "3.9.13"
  }
 },
 "nbformat": 4,
 "nbformat_minor": 5
}
