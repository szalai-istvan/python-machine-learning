{
 "cells": [
  {
   "cell_type": "markdown",
   "id": "eed86463",
   "metadata": {},
   "source": [
    "<h1 style=\"text-align:center;\">Hypothesis testing</h1>\n",
    "<hr style=\"width:65%;height:2px;border-width:1;color:gray;background-color:gray;\">\n",
    "<p>DV (Dependent Variable) means the outcome, the thing that we're trying to explain. IV (Independent Variable) is the data that we hope will explain the DVs.</p>\n",
    "\n",
    "<pre>\n",
    "<p>\n",
    "    IV: Soil moisture (we measure it and we may have control over it)\n",
    "    DV: Effect of soil moisture on plant growth (what we're trying to explain)\n",
    "</p>\n",
    "</pre>\n",
    "<hr style=\"width:65%;height:2px;border-width:1;color:gray;background-color:gray;\">\n",
    "\n",
    "<p>Models are simplified representations of the data. Typically, an equation explaining a feature.</p>\n",
    "<p>Hypothesis testing is model comparison.</p>\n",
    "<p>A hypothesis is a falsifiable claim that typically requires verification from observations or experiments. A hypothesis allows for predictions about future data.</p>\n",
    "\n",
    "<p>A good hypothesis is:</p>\n",
    "<ul>\n",
    "    <li>Clear</li>\n",
    "    <li>Specific</li>\n",
    "    <li>Falsifiable</li>\n",
    "    <li>Based on prior data or theory</li>\n",
    "    <li>Leads to statistical test</li>\n",
    "    <li>A statement, not a question</li>\n",
    "    <li>A prediction about the direction of the event</li>\n",
    "    <li>Relevant for unobserved data and to understand nature</li>\n",
    "</ul>\n",
    "\n",
    "<p>Null hypothesis (H0) is always that there's no connection between data, and we try to prove or disprove it. We have another, the alternate hypothesis. H0 is \"no effect\".</p>"
   ]
  },
  {
   "cell_type": "markdown",
   "id": "96aa88a5",
   "metadata": {},
   "source": [
    "<h1 style=\"text-align:center;\">P values</h1>\n",
    "<hr style=\"width:65%;height:2px;border-width:1;color:gray;background-color:gray;\">\n",
    "<p>The probability of observing the sample data given that H0 is true. Small p value means the data is unlikely if H0 is true.</p>\n",
    "<p>Everey distribution can be transformed into a prbability distribution.</p>\n",
    "<p>There are some numbers worth memorizing, especially for normal distributions:</p>\n",
    "<ul>\n",
    "    <li>68,3% of data is in mean +/- 1 standard deviation</li>\n",
    "    <li>95,5% of data is in mean +/- 2 standard deviation</li>\n",
    "    <li>99,7% of data is in mean +/- 3 standard deviation</li>\n",
    "</ul>\n",
    "\n",
    "<p>p-z pairs te memorize for one-tailed tests:</p>\n",
    "<ul>\n",
    "    <li>p=0.05, z=1.64</li>\n",
    "    <li>p=0.01, z=2.32</li>\n",
    "    <li>p=0.001, z=3.09</li>\n",
    "</ul>\n",
    "<p>Meaning of z value is if we take .05 as our statistical significance threshold, then observed data will need to be 1.64 std deviations away from H0 mean to be considered statistically significant.</p>\n",
    "\n",
    "<p>p-z pairs te memorize for two-tailed tests:</p>\n",
    "<ul>\n",
    "    <li>p=0.05, z=1.96</li>\n",
    "    <li>p=0.01, z=2.58</li>\n",
    "    <li>p=0.001, z=3.29</li>\n",
    "</ul>"
   ]
  },
  {
   "cell_type": "markdown",
   "id": "6998756d",
   "metadata": {},
   "source": [
    "<h1 style=\"text-align:center;\">Type 1 and type 2 errors</h1>\n",
    "<hr style=\"width:65%;height:2px;border-width:1;color:gray;background-color:gray;\">\n",
    "<p>Type 1 error is rejecting H0 but it's true (false negative). Type 2 error is accepting it when it is not true (false negative).</p>\n",
    "<p>When we decrease the risk of one of them, we increase the rist of the other.</p>"
   ]
  },
  {
   "cell_type": "markdown",
   "id": "c5b579ba",
   "metadata": {},
   "source": [
    "<h1 style=\"text-align:center;\">Parametric and non-parametric studies</h1>\n",
    "<hr style=\"width:65%;height:2px;border-width:1;color:gray;background-color:gray;\">\n",
    "<p>Non-parametric doesn't mean no parameters! Permutation testing is a type of non-parametric study, ones that do not assume a distribution, but calculate the H0 hypothesis from the data.</p>\n",
    "<p>Parametric studies are <b>(+)</b> standardised, widely used, analytically proven, computationally fast <b>(-)</b> based on assumptions, those assumptions should be tested, results can be incorrect when assumptions are incorrect.</p>\n",
    "<p>Nonparametric studies are <b>(+)</b> Some are standardised, \"No\" assumptions, appropriate for non-numeric data and small samples <b>(-)</b> can be slow, some of it is \"sensible\" algorithms instead of proven methods, some methods give different result each time</p>\n",
    "<hr style=\"width:65%;height:2px;border-width:1;color:gray;background-color:gray;\">\n",
    "<p>When possible, parametric studies should be used. </p>"
   ]
  },
  {
   "cell_type": "markdown",
   "id": "325af481",
   "metadata": {},
   "source": [
    "<h1 style=\"text-align:center;\">Multiple comparisons and Bonferroni correction</h1>\n",
    "<hr style=\"width:65%;height:2px;border-width:1;color:gray;background-color:gray;\">\n",
    "<p>Example: Let's have three groups. We can compare them 3 ways (There are three ways to choose 2 of them).</p>\n",
    "<p>p(H1|H0)=.05</p>\n",
    "<p>p(H2|H0)=.05</p>\n",
    "<p>p(H3|H0)=.05</p>\n",
    "<p>At this point we have .15 chance of having a false alarm.</p>\n",
    "<p>Summing probabilities assumes the data are independent of each other. The probability of false alarm in case of multiple tests is called family wise error rate (FWE).</p>\n",
    "<p>After 'n' number of tests:</p>\n",
    "<p>FWE<=1-(1-a)^n<=a*n</p>\n",
    "<p>'a' is the probability threshold (.05)</p>\n",
    "<p>Bonferroni correction: Make p = a/n</p>\n",
    "\n"
   ]
  },
  {
   "cell_type": "markdown",
   "id": "b71cf87f",
   "metadata": {},
   "source": [
    "<h1 style=\"text-align:center;\">Significance</h1>\n",
    "<hr style=\"width:65%;height:2px;border-width:1;color:gray;background-color:gray;\">\n",
    "<p>Statistical significance: The probability of observing a test statistics given the H0 hypothesis.</p>\n",
    "<p>Theoretical significance: The finding is relevant for a theory, or leads to more experiments. Has nothing to do with statistical significance.</p>\n",
    "<p>Clinical significance: A finding is relevant for diagnosing or treating a disease.</p>"
   ]
  },
  {
   "cell_type": "markdown",
   "id": "8aa6d1df",
   "metadata": {},
   "source": [
    "<h1 style=\"text-align:center;\">Crossvalidation</h1>\n",
    "<hr style=\"width:65%;height:2px;border-width:1;color:gray;background-color:gray;\">\n",
    "<p>Cross validation is using a part of the data (maybe 90%) to create the model, and applying it to the remaining data.</p>\n",
    "<p>It is recommended to do this repeatedly until all data has been used as test and all data has been used as training set. This is k-fold cross validation.</p>\n",
    "<p>10-20 fold validation tends to be good.</p>\n",
    "<p>Test set should be randomly distributed around the data.</p>"
   ]
  },
  {
   "cell_type": "code",
   "execution_count": null,
   "id": "0810a626",
   "metadata": {},
   "outputs": [],
   "source": []
  }
 ],
 "metadata": {
  "kernelspec": {
   "display_name": "Python 3 (ipykernel)",
   "language": "python",
   "name": "python3"
  },
  "language_info": {
   "codemirror_mode": {
    "name": "ipython",
    "version": 3
   },
   "file_extension": ".py",
   "mimetype": "text/x-python",
   "name": "python",
   "nbconvert_exporter": "python",
   "pygments_lexer": "ipython3",
   "version": "3.9.13"
  }
 },
 "nbformat": 4,
 "nbformat_minor": 5
}
