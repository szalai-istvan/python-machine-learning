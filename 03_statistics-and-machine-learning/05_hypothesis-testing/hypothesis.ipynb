{
 "cells": [
  {
   "cell_type": "markdown",
   "id": "eed86463",
   "metadata": {},
   "source": [
    "<h1 style=\"text-align:center;\">Hypothesis testing</h1>\n",
    "<hr style=\"width:65%;height:2px;border-width:1;color:gray;background-color:gray;\">\n",
    "<p>DV (Dependent Variable) means the outcome, the thing that we're trying to explain. IV (Independent Variable) is the data that we hope will explain the DVs.</p>\n",
    "\n",
    "<pre>\n",
    "<p>\n",
    "    IV: Soil moisture (we measure it and we may have control over it)\n",
    "    DV: Effect of soil moisture on plant growth (what we're trying to explain)\n",
    "</p>\n",
    "</pre>\n",
    "<hr style=\"width:65%;height:2px;border-width:1;color:gray;background-color:gray;\">\n",
    "\n",
    "<p>Models are simplified representations of the data. Typically, an equation explaining a feature.</p>\n",
    "<p>Hypothesis testing is model comparison.</p>\n",
    "<p>A hypothesis is a falsifiable claim that typically requires verification from observations or experiments. A hypothesis allows for predictions about future data.</p>\n",
    "\n",
    "<p>A good hypothesis is:</p>\n",
    "<ul>\n",
    "    <li>Clear</li>\n",
    "    <li>Specific</li>\n",
    "    <li>Falsifiable</li>\n",
    "    <li>Based on prior data or theory</li>\n",
    "    <li>Leads to statistical test</li>\n",
    "    <li>A statement, not a question</li>\n",
    "    <li>A prediction about the direction of the event</li>\n",
    "    <li>Relevant for unobserved data and to understand nature</li>\n",
    "</ul>"
   ]
  },
  {
   "cell_type": "markdown",
   "id": "96aa88a5",
   "metadata": {},
   "source": []
  },
  {
   "cell_type": "code",
   "execution_count": null,
   "id": "2d7f6860",
   "metadata": {},
   "outputs": [],
   "source": []
  },
  {
   "cell_type": "code",
   "execution_count": null,
   "id": "5c238116",
   "metadata": {},
   "outputs": [],
   "source": []
  }
 ],
 "metadata": {
  "kernelspec": {
   "display_name": "Python 3 (ipykernel)",
   "language": "python",
   "name": "python3"
  },
  "language_info": {
   "codemirror_mode": {
    "name": "ipython",
    "version": 3
   },
   "file_extension": ".py",
   "mimetype": "text/x-python",
   "name": "python",
   "nbconvert_exporter": "python",
   "pygments_lexer": "ipython3",
   "version": "3.9.13"
  }
 },
 "nbformat": 4,
 "nbformat_minor": 5
}
