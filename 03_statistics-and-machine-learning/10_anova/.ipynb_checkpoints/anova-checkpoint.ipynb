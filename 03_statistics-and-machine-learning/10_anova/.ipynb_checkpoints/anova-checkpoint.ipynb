{
 "cells": [
  {
   "cell_type": "markdown",
   "id": "dc58eeb4-6471-4288-b076-2a2c71790f8c",
   "metadata": {},
   "source": [
    "<div style=\"background:#ddffff;border-left: 6px solid #2196f3;\">\n",
    "<h1 style=\"text-align:center;\">ANOVA</h1>\n",
    "<hr style=\"width:65%;height:2px;border-width:1;color:gray;background-color:gray;\">\n",
    "<p style=\"padding-left:20px;padding-right:20px;padding-bottom:20px;\">\n",
    "Stands for Analysis of Variance.<br>The goal is the determine the effects of discrete independent variables on a continuous dependent variable.<br>Example: Effect of medicine type and age group on curing a disease.<br><br>Steps:<br>1. Make sure ANOVA is the appropriate method.<br>2. Identify independent and dependent variables.<br>3. Create a table of factors if possible.<br>4. Compute the model.<br><br>Our H0 hypothesis is that all groups are statistically indistinguishable.</p>\n",
    "</div>"
   ]
  },
  {
   "cell_type": "code",
   "execution_count": 11,
   "id": "0d2ec0b9-6393-484d-addc-9cf7f94a64a2",
   "metadata": {},
   "outputs": [],
   "source": [
    "import numpy as np\n",
    "import matplotlib.pyplot as plt\n",
    "import pingouin as pg\n",
    "import pandas as pd"
   ]
  },
  {
   "cell_type": "code",
   "execution_count": 9,
   "id": "c2b90b3b-13c6-4f6c-b5b2-527741a0e954",
   "metadata": {},
   "outputs": [
    {
     "data": {
      "text/html": [
       "<div>\n",
       "<style scoped>\n",
       "    .dataframe tbody tr th:only-of-type {\n",
       "        vertical-align: middle;\n",
       "    }\n",
       "\n",
       "    .dataframe tbody tr th {\n",
       "        vertical-align: top;\n",
       "    }\n",
       "\n",
       "    .dataframe thead th {\n",
       "        text-align: right;\n",
       "    }\n",
       "</style>\n",
       "<table border=\"1\" class=\"dataframe\">\n",
       "  <thead>\n",
       "    <tr style=\"text-align: right;\">\n",
       "      <th></th>\n",
       "      <th>TheData</th>\n",
       "      <th>Group</th>\n",
       "    </tr>\n",
       "  </thead>\n",
       "  <tbody>\n",
       "    <tr>\n",
       "      <th>0</th>\n",
       "      <td>0.772742</td>\n",
       "      <td>1</td>\n",
       "    </tr>\n",
       "    <tr>\n",
       "      <th>1</th>\n",
       "      <td>3.947745</td>\n",
       "      <td>1</td>\n",
       "    </tr>\n",
       "    <tr>\n",
       "      <th>2</th>\n",
       "      <td>2.095872</td>\n",
       "      <td>1</td>\n",
       "    </tr>\n",
       "    <tr>\n",
       "      <th>3</th>\n",
       "      <td>3.638532</td>\n",
       "      <td>1</td>\n",
       "    </tr>\n",
       "    <tr>\n",
       "      <th>4</th>\n",
       "      <td>3.744257</td>\n",
       "      <td>1</td>\n",
       "    </tr>\n",
       "    <tr>\n",
       "      <th>...</th>\n",
       "      <td>...</td>\n",
       "      <td>...</td>\n",
       "    </tr>\n",
       "    <tr>\n",
       "      <th>89</th>\n",
       "      <td>3.639423</td>\n",
       "      <td>3</td>\n",
       "    </tr>\n",
       "    <tr>\n",
       "      <th>90</th>\n",
       "      <td>8.091552</td>\n",
       "      <td>3</td>\n",
       "    </tr>\n",
       "    <tr>\n",
       "      <th>91</th>\n",
       "      <td>8.374510</td>\n",
       "      <td>3</td>\n",
       "    </tr>\n",
       "    <tr>\n",
       "      <th>92</th>\n",
       "      <td>7.852495</td>\n",
       "      <td>3</td>\n",
       "    </tr>\n",
       "    <tr>\n",
       "      <th>93</th>\n",
       "      <td>5.976209</td>\n",
       "      <td>3</td>\n",
       "    </tr>\n",
       "  </tbody>\n",
       "</table>\n",
       "<p>94 rows × 2 columns</p>\n",
       "</div>"
      ],
      "text/plain": [
       "     TheData Group\n",
       "0   0.772742     1\n",
       "1   3.947745     1\n",
       "2   2.095872     1\n",
       "3   3.638532     1\n",
       "4   3.744257     1\n",
       "..       ...   ...\n",
       "89  3.639423     3\n",
       "90  8.091552     3\n",
       "91  8.374510     3\n",
       "92  7.852495     3\n",
       "93  5.976209     3\n",
       "\n",
       "[94 rows x 2 columns]"
      ]
     },
     "execution_count": 9,
     "metadata": {},
     "output_type": "execute_result"
    }
   ],
   "source": [
    "mean1 = 4\n",
    "mean2 = 3.8\n",
    "mean3 = 7\n",
    "\n",
    "N1 = 30\n",
    "N2 = 35\n",
    "N3 = 29\n",
    "\n",
    "stdev = 2\n",
    "\n",
    "data1 = mean1 + np.random.randn(N1)*stdev\n",
    "data2 = mean2 + np.random.randn(N2)*stdev\n",
    "data3 = mean3 + np.random.randn(N3)*stdev\n",
    "\n",
    "datacolumn = np.hstack((data1, data2, data3))\n",
    "groups = ['1']*N1 + ['2']*N2 + ['3']*N3\n",
    "df = pd.DataFrame({'TheData': datacolumn, 'Group': groups})\n",
    "df"
   ]
  },
  {
   "cell_type": "code",
   "execution_count": 12,
   "id": "20ae3a4d-33fc-4340-b4b5-1422522d0fdc",
   "metadata": {},
   "outputs": [
    {
     "data": {
      "text/html": [
       "<div>\n",
       "<style scoped>\n",
       "    .dataframe tbody tr th:only-of-type {\n",
       "        vertical-align: middle;\n",
       "    }\n",
       "\n",
       "    .dataframe tbody tr th {\n",
       "        vertical-align: top;\n",
       "    }\n",
       "\n",
       "    .dataframe thead th {\n",
       "        text-align: right;\n",
       "    }\n",
       "</style>\n",
       "<table border=\"1\" class=\"dataframe\">\n",
       "  <thead>\n",
       "    <tr style=\"text-align: right;\">\n",
       "      <th></th>\n",
       "      <th>Source</th>\n",
       "      <th>ddof1</th>\n",
       "      <th>ddof2</th>\n",
       "      <th>F</th>\n",
       "      <th>p-unc</th>\n",
       "      <th>np2</th>\n",
       "    </tr>\n",
       "  </thead>\n",
       "  <tbody>\n",
       "    <tr>\n",
       "      <th>0</th>\n",
       "      <td>Group</td>\n",
       "      <td>2</td>\n",
       "      <td>91</td>\n",
       "      <td>38.849418</td>\n",
       "      <td>6.350141e-13</td>\n",
       "      <td>0.460577</td>\n",
       "    </tr>\n",
       "  </tbody>\n",
       "</table>\n",
       "</div>"
      ],
      "text/plain": [
       "  Source  ddof1  ddof2          F         p-unc       np2\n",
       "0  Group      2     91  38.849418  6.350141e-13  0.460577"
      ]
     },
     "execution_count": 12,
     "metadata": {},
     "output_type": "execute_result"
    }
   ],
   "source": [
    "pg.anova(data=df,dv='TheData', between='Group')"
   ]
  },
  {
   "cell_type": "code",
   "execution_count": 14,
   "id": "d7dfd357-d5df-42bb-b4da-cad80e9949ba",
   "metadata": {},
   "outputs": [
    {
     "data": {
      "image/png": "[encoded data removed]",
      "text/plain": [
       "<Figure size 640x480 with 1 Axes>"
      ]
     },
     "metadata": {},
     "output_type": "display_data"
    }
   ],
   "source": [
    "df.boxplot('TheData', by='Group');"
   ]
  },
  {
   "cell_type": "code",
   "execution_count": null,
   "id": "c33edb58-24a1-4b0f-8091-0792352bdd8c",
   "metadata": {},
   "outputs": [],
   "source": []
  }
 ],
 "metadata": {
  "kernelspec": {
   "display_name": "Python 3 (ipykernel)",
   "language": "python",
   "name": "python3"
  },
  "language_info": {
   "codemirror_mode": {
    "name": "ipython",
    "version": 3
   },
   "file_extension": ".py",
   "mimetype": "text/x-python",
   "name": "python",
   "nbconvert_exporter": "python",
   "pygments_lexer": "ipython3",
   "version": "3.12.3"
  }
 },
 "nbformat": 4,
 "nbformat_minor": 5
}
