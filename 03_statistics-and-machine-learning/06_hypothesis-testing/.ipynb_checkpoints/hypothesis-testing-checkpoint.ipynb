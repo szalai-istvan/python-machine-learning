{
 "cells": [
  {
   "cell_type": "markdown",
   "id": "be56fb6b",
   "metadata": {},
   "source": [
    "<div style=\"background:#ddffff;border-left: 6px solid #2196f3;\">\n",
    "<h1 style=\"text-align:center;\">DVs and IVs</h1>\n",
    "<hr style=\"width:65%;height:2px;border-width:1;color:gray;background-color:gray;\">\n",
    "<p style=\"padding-left:20px;padding-right:20px;padding-bottom:20px;\">DV (\"the effect\") is dependent variable. The outcome, the variable we are trying to explain.<br>IV (\"the cause\") is independent vaiable. The measurement, the data that we hope will explain the DV.<br><br>When visualizing data, it is a common practice that we put IV on the x-axis and DV on the y-axis.</p>\n",
    "</div>"
   ]
  },
  {
   "cell_type": "markdown",
   "id": "21f5a469",
   "metadata": {},
   "source": [
    "<div style=\"background:#ddffff;border-left: 6px solid #2196f3;\">\n",
    "<h1 style=\"text-align:center;\">Hypothesis</h1>\n",
    "<hr style=\"width:65%;height:2px;border-width:1;color:gray;background-color:gray;\">\n",
    "<p style=\"padding-left:20px;padding-right:20px;padding-bottom:20px;\">A hypothesis is a falsifiable claim that requires verification. A hypothesis allows for predictions about future observations.<br><br>A good hypothesis is\n",
    "        <br> - Clear\n",
    "    <br> - Specific\n",
    "    <br> - Falsifiable\n",
    "    <br> - Based on prior data or theory\n",
    "    <br> - Leads to statistical test\n",
    "    <br> - A statement, not a question\n",
    "    <br> - A prediction about future observations\n",
    "    <br> - Relevant for unobserved data\n",
    "    <br> - Relevant for understanding nature\n",
    "    <br><br>    \n",
    "    A null hypothesis means that \"nothing interesting\" is happening. In statistics we always test the null hypothesis. <br><br>\n",
    "    Example: <br>Hypothesis: People buy more product after seeing advertising X compared to advertising Y.<br>Null hypothesis: The advertising has no effect.</p>\n",
    "</div>"
   ]
  },
  {
   "cell_type": "code",
   "execution_count": null,
   "id": "a769e065",
   "metadata": {},
   "outputs": [],
   "source": []
  }
 ],
 "metadata": {
  "kernelspec": {
   "display_name": "Python 3 (ipykernel)",
   "language": "python",
   "name": "python3"
  },
  "language_info": {
   "codemirror_mode": {
    "name": "ipython",
    "version": 3
   },
   "file_extension": ".py",
   "mimetype": "text/x-python",
   "name": "python",
   "nbconvert_exporter": "python",
   "pygments_lexer": "ipython3",
   "version": "3.11.5"
  }
 },
 "nbformat": 4,
 "nbformat_minor": 5
}
