{
 "cells": [
  {
   "cell_type": "markdown",
   "id": "be56fb6b",
   "metadata": {},
   "source": [
    "<div style=\"background:#ddffff;border-left: 6px solid #2196f3;\">\n",
    "<h1 style=\"text-align:center;\">DVs and IVs</h1>\n",
    "<hr style=\"width:65%;height:2px;border-width:1;color:gray;background-color:gray;\">\n",
    "<p style=\"padding-left:20px;padding-right:20px;padding-bottom:20px;\">DV (\"the effect\") is dependent variable. The outcome, the variable we are trying to explain.<br>IV (\"the cause\") is independent vaiable. The measurement, the data that we hope will explain the DV.<br><br>When visualizing data, it is a common practice that we put IV on the x-axis and DV on the y-axis.</p>\n",
    "</div>"
   ]
  },
  {
   "cell_type": "markdown",
   "id": "21f5a469",
   "metadata": {},
   "source": [
    "<div style=\"background:#ddffff;border-left: 6px solid #2196f3;\">\n",
    "<h1 style=\"text-align:center;\">Hypothesis</h1>\n",
    "<hr style=\"width:65%;height:2px;border-width:1;color:gray;background-color:gray;\">\n",
    "<p style=\"padding-left:20px;padding-right:20px;padding-bottom:20px;\">A hypothesis is a falsifiable claim that requires verification. A hypothesis allows for predictions about future observations.<br><br>A good hypothesis is\n",
    "        <br> - Clear\n",
    "    <br> - Specific\n",
    "    <br> - Falsifiable\n",
    "    <br> - Based on prior data or theory\n",
    "    <br> - Leads to statistical test\n",
    "    <br> - A statement, not a question\n",
    "    <br> - A prediction about future observations\n",
    "    <br> - Relevant for unobserved data\n",
    "    <br> - Relevant for understanding nature\n",
    "    <br><br>    \n",
    "    A null hypothesis means that \"nothing interesting\" is happening. In statistics we always test the null hypothesis. <br><br>\n",
    "    Example: <br>Hypothesis: People buy more product after seeing advertising X compared to advertising Y.<br>Null hypothesis: The advertising has no effect.</p>\n",
    "</div>"
   ]
  },
  {
   "cell_type": "markdown",
   "id": "d92a1613",
   "metadata": {},
   "source": [
    "<div style=\"background:#ddffff;border-left: 6px solid #2196f3;\">\n",
    "<h1 style=\"text-align:center;\">Degrees of freedom</h1>\n",
    "<hr style=\"width:65%;height:2px;border-width:1;color:gray;background-color:gray;\">\n",
    "<p style=\"padding-left:20px;padding-right:20px;padding-bottom:20px;\">\n",
    "    Given x = {a, b, c, d} and the mean is 5, we need to know three of the numbers to be sure of the last one. That one is dependent, it has no freedom. This example has <strong>3 degrees of freedom</strong>.<br>If we don't know the mean of sample x, we only know the population mean, that does not constrain anything, the degrees of freedom stays 4.<br><br>The degrees of freedom is the number of data points unconstrained by the rest of the data.\n",
    "</p>\n",
    "</div>"
   ]
  },
  {
   "cell_type": "markdown",
   "id": "eec5cb25",
   "metadata": {},
   "source": [
    "<div style=\"background:#ddffff;border-left: 6px solid #2196f3;\">\n",
    "<h1 style=\"text-align:center;\">Type 1 and Type 2 errors</h1>\n",
    "<hr style=\"width:65%;height:2px;border-width:1;color:gray;background-color:gray;\">\n",
    "<p style=\"padding-left:20px;padding-right:20px;padding-bottom:20px;\">\n",
    "     - <strong>A true positive</strong> is if the null hypothesis is false and we reject it.<br>\n",
    "     - <strong>A true negative</strong> is if the null hypothesis is true and we don't reject it.<br>\n",
    "     - <strong>A type 1 error (false positive)</strong> is if the null hypothesis is true and we reject it.<br>\n",
    "     - <strong>A type 2 error (false negative)</strong> is if the null hypothesis is false and we don't reject it.<br>\n",
    "</p>\n",
    "</div>"
   ]
  },
  {
   "cell_type": "markdown",
   "id": "1fb8bb49",
   "metadata": {},
   "source": [
    "<div style=\"background:#ddffff;border-left: 6px solid #2196f3;\">\n",
    "<h1 style=\"text-align:center;\">Parametric and non-parametric analysis</h1>\n",
    "<hr style=\"width:65%;height:2px;border-width:1;color:gray;background-color:gray;\">\n",
    "<p style=\"padding-left:20px;padding-right:20px;padding-bottom:20px;\">\n",
    "     - Non-parametric means that we don't assume anything about the underlying distribution. The H0 is generated from the data, not from an equation.\n",
    "</p>\n",
    "</div>"
   ]
  },
  {
   "cell_type": "code",
   "execution_count": null,
   "id": "d81865f3",
   "metadata": {},
   "outputs": [],
   "source": []
  }
 ],
 "metadata": {
  "kernelspec": {
   "display_name": "Python 3 (ipykernel)",
   "language": "python",
   "name": "python3"
  },
  "language_info": {
   "codemirror_mode": {
    "name": "ipython",
    "version": 3
   },
   "file_extension": ".py",
   "mimetype": "text/x-python",
   "name": "python",
   "nbconvert_exporter": "python",
   "pygments_lexer": "ipython3",
   "version": "3.11.5"
  }
 },
 "nbformat": 4,
 "nbformat_minor": 5
}
