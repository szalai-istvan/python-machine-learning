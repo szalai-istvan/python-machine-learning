{
 "cells": [
  {
   "cell_type": "markdown",
   "id": "efa0ed3e",
   "metadata": {},
   "source": [
    "<h1 style=\"text-align:center;\">ANOVA</h1>\n",
    "<hr style=\"width:65%;height:2px;border-width:1;color:gray;background-color:gray;\">\n",
    "<p>ANOVA is Analysis of Variance</p>\n",
    "<p>The goal is to determine the effect of discreet independent variables on a continuous dependent variable.</p>\n",
    "<p>Example: Does this medication help people of all age?</p>"
   ]
  },
  {
   "cell_type": "code",
   "execution_count": null,
   "id": "ca11c242",
   "metadata": {},
   "outputs": [],
   "source": []
  }
 ],
 "metadata": {
  "kernelspec": {
   "display_name": "Python 3 (ipykernel)",
   "language": "python",
   "name": "python3"
  },
  "language_info": {
   "codemirror_mode": {
    "name": "ipython",
    "version": 3
   },
   "file_extension": ".py",
   "mimetype": "text/x-python",
   "name": "python",
   "nbconvert_exporter": "python",
   "pygments_lexer": "ipython3",
   "version": "3.9.13"
  }
 },
 "nbformat": 4,
 "nbformat_minor": 5
}
