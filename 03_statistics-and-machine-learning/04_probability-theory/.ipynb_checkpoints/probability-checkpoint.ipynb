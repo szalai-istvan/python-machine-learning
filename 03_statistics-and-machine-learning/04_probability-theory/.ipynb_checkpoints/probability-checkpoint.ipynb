{
 "cells": [
  {
   "cell_type": "markdown",
   "id": "eb7bfda2",
   "metadata": {},
   "source": [
    "<h1 style=\"text-align:center;\">Probability theory</h1>\n",
    "<hr style=\"width:65%;height:2px;border-width:1;color:gray;background-color:gray;\">\n",
    "<p></p>"
   ]
  },
  {
   "cell_type": "code",
   "execution_count": 3,
   "id": "feaf29d9",
   "metadata": {},
   "outputs": [],
   "source": [
    "import numpy as np\n",
    "import matplotlib.pyplot as plt"
   ]
  },
  {
   "cell_type": "code",
   "execution_count": 4,
   "id": "b0b04d63",
   "metadata": {},
   "outputs": [
    {
     "data": {
      "text/plain": [
       "array([10., 20., 40., 30.])"
      ]
     },
     "execution_count": 4,
     "metadata": {},
     "output_type": "execute_result"
    }
   ],
   "source": [
    "# counts of different events\n",
    "c = np.array([1,2,4,3])\n",
    "probabilities = 100 * c / np.sum(c)\n",
    "probabilities"
   ]
  },
  {
   "cell_type": "code",
   "execution_count": 33,
   "id": "b6122729",
   "metadata": {},
   "outputs": [
    {
     "name": "stdout",
     "output_type": "stream",
     "text": [
      "Proportion of blue  =0.442, theoretical probability=0.444\n",
      "Proportion of yellow=0.333, theoretical probability=0.333\n",
      "Proportion of orange=0.225, theoretical probability=0.222\n"
     ]
    }
   ],
   "source": [
    "# Drawing marbles from a jar\n",
    "blue = 40\n",
    "yellow = 30\n",
    "orange = 20\n",
    "total = blue + yellow + orange\n",
    "\n",
    "jar = np.hstack((1*np.ones(blue),2*np.ones(yellow),3*np.ones(orange))) # hstack = horizontal stacking\n",
    "# 1 represents a blue, 2 a yellow, 3 an orange\n",
    "\n",
    "numberOfDraws = 5000\n",
    "draws = np.zeros(numberOfDraws)\n",
    "for draw in range(numberOfDraws):\n",
    "    randomMarble = int(np.random.rand() * len(jar))\n",
    "    draws[draw] = jar[randomMarble]\n",
    "\n",
    "proportionOfBlue   = sum(draws==1) / numberOfDraws\n",
    "proportionOfYellow = sum(draws==2) / numberOfDraws\n",
    "proportionOfOrange = sum(draws==3) / numberOfDraws\n",
    "print(f'Proportion of blue  ={np.round(proportionOfBlue,3)}, theoretical probability={np.round(blue/total,3)}')\n",
    "print(f'Proportion of yellow={np.round(proportionOfYellow,3)}, theoretical probability={np.round(yellow/total,3)}')\n",
    "print(f'Proportion of orange={np.round(proportionOfOrange,3)}, theoretical probability={np.round(orange/total,3)}')"
   ]
  },
  {
   "cell_type": "markdown",
   "id": "a7d489dd",
   "metadata": {},
   "source": [
    "<h1 style=\"text-align:center;\">Odds</h1>\n",
    "<hr style=\"width:65%;height:2px;border-width:1;color:gray;background-color:gray;\">\n",
    "<p>An odd is the probability of an event not occurring vs occurring</p>\n",
    "<p>r = (1-p)/p</p>"
   ]
  },
  {
   "cell_type": "markdown",
   "id": "e66478ae",
   "metadata": {},
   "source": [
    "<h1 style=\"text-align:center;\">Probability functions</h1>\n",
    "<hr style=\"width:65%;height:2px;border-width:1;color:gray;background-color:gray;\">\n",
    "<p>Probability: The chance of a specific event happening.</p>\n",
    "<p>Probability mass: A function describing the probability of a set of exclusive, discrete events. </p>\n",
    "<p>Probability density: A function describing the probability of a set of exclusive, continuous events. </p>"
   ]
  },
  {
   "cell_type": "code",
   "execution_count": null,
   "id": "a26979bf",
   "metadata": {},
   "outputs": [],
   "source": []
  }
 ],
 "metadata": {
  "kernelspec": {
   "display_name": "Python 3 (ipykernel)",
   "language": "python",
   "name": "python3"
  },
  "language_info": {
   "codemirror_mode": {
    "name": "ipython",
    "version": 3
   },
   "file_extension": ".py",
   "mimetype": "text/x-python",
   "name": "python",
   "nbconvert_exporter": "python",
   "pygments_lexer": "ipython3",
   "version": "3.9.13"
  }
 },
 "nbformat": 4,
 "nbformat_minor": 5
}
