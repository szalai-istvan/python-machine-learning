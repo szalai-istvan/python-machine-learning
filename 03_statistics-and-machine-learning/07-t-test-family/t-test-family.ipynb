{
 "cells": [
  {
   "cell_type": "markdown",
   "id": "a6f27de3",
   "metadata": {},
   "source": [
    "<div style=\"background:#ddffff;border-left: 6px solid #2196f3;\">\n",
    "<h1 style=\"text-align:center;\">T-test</h1>\n",
    "<hr style=\"width:65%;height:2px;border-width:1;color:gray;background-color:gray;\">\n",
    "<p style=\"padding-left:20px;padding-right:20px;padding-bottom:20px;\">\n",
    "    The idea of a T test is comparing two groups of data (e.g.: the mean).<br>\n",
    "    The H0 hypothesis is that the groups are from the same distribution.<br>\n",
    "    The t-value is computed with this equation: t = (mean(x) - mean(y)) / (s / sqrt(n)). [s] is the sample standard deviation. Basically it is the difference in means divided by standard deviations.<br>\n",
    "    The probabilities of t values is a mean-centered normal distribution. It is the probability of observing that t-value given the H0 hypothesis.\n",
    "</p>\n",
    "</div>"
   ]
  },
  {
   "cell_type": "markdown",
   "id": "49a9dfb1",
   "metadata": {},
   "source": [
    "<div style=\"background:#ddffff;border-left: 6px solid #2196f3;\">\n",
    "<h1 style=\"text-align:center;\">One sample T-test</h1>\n",
    "<hr style=\"width:65%;height:2px;border-width:1;color:gray;background-color:gray;\">\n",
    "<p style=\"padding-left:20px;padding-right:20px;padding-bottom:20px;\">\n",
    "    Example: Test whether the IQ of a group of students is significantly different from 100.<br> \n",
    "    In other words: Estimate the probability that a certain group of students has an average IQ of 100.<br>\n",
    "    t(n-1) = (mean(x) - mu) / (s/sqrt(n))<br>\n",
    "    (n-1) is the degrees of freedom of the t-test because we test for the mean.<br>\n",
    "    Assumptions: The data is numeric, independent from each other, randomly drawn and mean and std are valid measurements of them.\n",
    "</p>\n",
    "</div>"
   ]
  },
  {
   "cell_type": "code",
   "execution_count": null,
   "id": "c29451be",
   "metadata": {},
   "outputs": [],
   "source": []
  }
 ],
 "metadata": {
  "kernelspec": {
   "display_name": "Python 3 (ipykernel)",
   "language": "python",
   "name": "python3"
  },
  "language_info": {
   "codemirror_mode": {
    "name": "ipython",
    "version": 3
   },
   "file_extension": ".py",
   "mimetype": "text/x-python",
   "name": "python",
   "nbconvert_exporter": "python",
   "pygments_lexer": "ipython3",
   "version": "3.11.5"
  }
 },
 "nbformat": 4,
 "nbformat_minor": 5
}
