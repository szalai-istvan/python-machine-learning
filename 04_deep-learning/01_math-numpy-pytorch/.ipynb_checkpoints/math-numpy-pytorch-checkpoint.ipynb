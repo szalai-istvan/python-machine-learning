{
 "cells": [
  {
   "cell_type": "code",
   "execution_count": 1,
   "metadata": {},
   "outputs": [],
   "source": [
    "# Vector and matrix transposing\n",
    "import numpy as np\n",
    "import torch"
   ]
  },
  {
   "cell_type": "code",
   "execution_count": 2,
   "metadata": {},
   "outputs": [
    {
     "name": "stdout",
     "output_type": "stream",
     "text": [
      "v=[[1 2 3]]\n",
      "\n",
      "v.T=\n",
      "[[1]\n",
      " [2]\n",
      " [3]]\n"
     ]
    }
   ],
   "source": [
    "# numpy:\n",
    "v = np.array([ [1, 2, 3] ]) # row vector (By convention, vectors are usually assumed to be columns)\n",
    "print(f'v={v}')\n",
    "print('')\n",
    "print(f'v.T=\\n{v.T}') # column vector"
   ]
  },
  {
   "cell_type": "code",
   "execution_count": 3,
   "metadata": {},
   "outputs": [
    {
     "name": "stdout",
     "output_type": "stream",
     "text": [
      "v=[[1 2 3]]\n"
     ]
    }
   ],
   "source": [
    "print(f'v={v}') # .T does not transpose the original vector!"
   ]
  },
  {
   "cell_type": "code",
   "execution_count": 4,
   "metadata": {},
   "outputs": [
    {
     "name": "stdout",
     "output_type": "stream",
     "text": [
      "v=\n",
      "[[1 2 3]\n",
      " [4 5 6]]\n",
      "\n",
      "v.T=\n",
      "[[1 4]\n",
      " [2 5]\n",
      " [3 6]]\n",
      "\n",
      "v.T.T=\n",
      "[[1 2 3]\n",
      " [4 5 6]]\n"
     ]
    }
   ],
   "source": [
    "m = np.array([ [1, 2, 3],\n",
    "               [4, 5, 6] ]) # 2 row matrix\n",
    "print(f'v=\\n{m}')\n",
    "print('')\n",
    "print(f'v.T=\\n{m.T}') # 3 row matrix\n",
    "print('')\n",
    "print(f'v.T.T=\\n{m.T.T}') # m.T.T is m"
   ]
  },
  {
   "cell_type": "code",
   "execution_count": 5,
   "metadata": {},
   "outputs": [
    {
     "name": "stdout",
     "output_type": "stream",
     "text": [
      "tensor([[1, 2, 3, 4]])\n",
      "\n",
      "tensor([[1],\n",
      "        [2],\n",
      "        [3],\n",
      "        [4]])\n"
     ]
    }
   ],
   "source": [
    "# torch:\n",
    "tv = torch.tensor([ [1, 2, 3, 4] ])\n",
    "print(tv)\n",
    "print('')\n",
    "print(tv.T)"
   ]
  },
  {
   "cell_type": "code",
   "execution_count": 6,
   "metadata": {},
   "outputs": [
    {
     "name": "stdout",
     "output_type": "stream",
     "text": [
      "tensor([[1, 2, 3, 4],\n",
      "        [5, 6, 7, 8]])\n",
      "\n",
      "tensor([[1, 5],\n",
      "        [2, 6],\n",
      "        [3, 7],\n",
      "        [4, 8]])\n",
      "\n",
      "tensor([[1, 2, 3, 4],\n",
      "        [5, 6, 7, 8]])\n"
     ]
    }
   ],
   "source": [
    "m = torch.tensor([ [1, 2, 3, 4], [5, 6, 7, 8] ])\n",
    "print(m)\n",
    "print(f'\\n{m.T}')\n",
    "print(f'\\n{m.T.T}')"
   ]
  },
  {
   "cell_type": "code",
   "execution_count": 7,
   "metadata": {},
   "outputs": [
    {
     "name": "stdout",
     "output_type": "stream",
     "text": [
      "[0 1 2 3].T * [4 5 6 7] = 38\n",
      "Alternatively: np.sum([0 1 2 3]*[4 5 6 7])=38\n"
     ]
    }
   ],
   "source": [
    "# dot-product\n",
    "# for dot-product to work they need to be the same size and shape\n",
    "\n",
    "# numpy:\n",
    "v1 = np.array( [0, 1, 2, 3] )\n",
    "v2 = np.array( [4, 5, 6, 7] )\n",
    "print(f'{v1}.T * {v2} = {np.dot(v1, v2)}')\n",
    "print(f'Alternatively: np.sum({v1}*{v2})={np.sum( v1*v2 )}')"
   ]
  },
  {
   "cell_type": "code",
   "execution_count": 8,
   "metadata": {},
   "outputs": [
    {
     "name": "stdout",
     "output_type": "stream",
     "text": [
      "tensor([0, 1, 2, 3]).T * tensor([4, 5, 6, 7]) = 38\n",
      "Alternatively: torch.sum(tensor([0, 1, 2, 3])*tensor([4, 5, 6, 7]))=38\n"
     ]
    }
   ],
   "source": [
    "# torch:\n",
    "v1 = torch.tensor( [0, 1, 2, 3] )\n",
    "v2 = torch.tensor( [4, 5, 6, 7] )\n",
    "print(f'{v1}.T * {v2} = {torch.dot(v1, v2)}')\n",
    "print(f'Alternatively: torch.sum({v1}*{v2})={torch.sum( v1*v2 )}')"
   ]
  },
  {
   "cell_type": "code",
   "execution_count": 9,
   "metadata": {},
   "outputs": [
    {
     "name": "stdout",
     "output_type": "stream",
     "text": [
      "A=\n",
      "[[ 0.01 -0.62 -0.11 -0.27]\n",
      " [-1.88 -0.8   1.   -0.03]\n",
      " [-0.8   1.45  0.76 -1.73]]\n",
      "\n",
      "A@B=\n",
      "[[-0.71  0.56 -0.07 -1.08 -0.52]\n",
      " [ 2.67  1.96 -3.21 -5.2  -2.08]\n",
      " [ 3.76  1.53  0.26  0.94 -0.88]]\n",
      "\n",
      "A.T@C=\n",
      "[[ 0.98  0.68  0.24  0.92 -3.36 -0.32  1.83]\n",
      " [ 0.72 -1.89  0.14  0.97  0.49  0.46  1.1 ]\n",
      " [-0.47 -0.77 -0.12 -0.38  2.15  0.27 -0.92]\n",
      " [ 0.05  2.66 -0.32 -1.   -2.1   0.14  0.36]]\n",
      "\n",
      "C.T@A=\n",
      "[[ 0.98  0.72 -0.47  0.05]\n",
      " [ 0.68 -1.89 -0.77  2.66]\n",
      " [ 0.24  0.14 -0.12 -0.32]\n",
      " [ 0.92  0.97 -0.38 -1.  ]\n",
      " [-3.36  0.49  2.15 -2.1 ]\n",
      " [-0.32  0.46  0.27  0.14]\n",
      " [ 1.83  1.1  -0.92  0.36]]\n",
      "\n"
     ]
    }
   ],
   "source": [
    "# Matrix size: Row x Column\n",
    "# Two matrixes can be multiplied if AxB * BxC, and the size will be AxC\n",
    "A = np.random.randn(3, 4) # 3 rows 4 columns\n",
    "B = np.random.randn(4, 5)\n",
    "C = np.random.randn(3, 7)\n",
    "\n",
    "print(f'A=\\n{np.round(A, 2)}\\n')\n",
    "print(f'A@B=\\n{np.round(A@B, 2)}\\n')\n",
    "print(f'A.T@C=\\n{np.round(A.T@C, 2)}\\n')\n",
    "print(f'C.T@A=\\n{np.round(C.T@A, 2)}\\n')"
   ]
  },
  {
   "cell_type": "code",
   "execution_count": 10,
   "metadata": {},
   "outputs": [
    {
     "name": "stdout",
     "output_type": "stream",
     "text": [
      "A=\n",
      "tensor([[-2.1500,  0.6000, -0.4600, -0.5200],\n",
      "        [ 0.7400,  1.4500, -0.1900, -0.2200],\n",
      "        [ 0.2700,  1.6300, -1.4000,  0.4700]])\n",
      "\n",
      "A@B=\n",
      "tensor([[ 3.3200,  0.4000, -2.9300,  0.7200,  1.2100],\n",
      "        [ 1.2700, -1.8800,  1.9200, -0.1700, -0.0100],\n",
      "        [ 3.2500, -1.7100,  0.0200,  1.6300,  0.7100]])\n",
      "\n"
     ]
    }
   ],
   "source": [
    "A = torch.randn(3, 4)\n",
    "B = torch.randn(4, 5)\n",
    "\n",
    "print(f'A=\\n{np.round(A, 2)}\\n')\n",
    "print(f'A@B=\\n{np.round(A@B, 2)}\\n')"
   ]
  },
  {
   "cell_type": "code",
   "execution_count": 11,
   "metadata": {},
   "outputs": [
    {
     "name": "stdout",
     "output_type": "stream",
     "text": [
      "A=\n",
      "tensor([[ 0.0300, -1.5300,  0.2400,  1.3200],\n",
      "        [-1.5000,  0.2000, -1.9300, -0.6500],\n",
      "        [-1.1900,  0.3200, -0.3300, -1.9400]])\n",
      "\n",
      "A@B=\n",
      "tensor([[-2.4000,  1.9300, -1.8800,  0.5700, -0.5100],\n",
      "        [ 4.2000,  0.1400, -2.3400,  2.0600,  1.7500],\n",
      "        [ 2.3700, -0.3900,  0.1900, -0.4800,  1.0100]])\n",
      "\n"
     ]
    }
   ],
   "source": [
    "A = torch.randn(3, 4)\n",
    "B1 = np.random.randn(4, 5)\n",
    "\n",
    "print(f'A=\\n{np.round(A, 2)}\\n')\n",
    "print(f'A@B=\\n{np.round(A@B, 2)}\\n')"
   ]
  },
  {
   "attachments": {
    "image.png": {
     "image/png": "[encoded data removed]"
    }
   },
   "cell_type": "markdown",
   "metadata": {},
   "source": [
    "<h1>Softmax function</h1>\n",
    "\n",
    "![image.png](attachment:image.png)\n"
   ]
  },
  {
   "cell_type": "code",
   "execution_count": 12,
   "metadata": {},
   "outputs": [
    {
     "name": "stdout",
     "output_type": "stream",
     "text": [
      "z=[1, 2, 3], e**z=[ 2.71828183  7.3890561  20.08553692]\n",
      "\n",
      "sigma=[0.09003057 0.24472847 0.66524096]\n",
      "\n",
      "sum(sigma)=0.9999999999999999\n",
      "\n"
     ]
    }
   ],
   "source": [
    "z = [1, 2, 3]\n",
    "def softmax(z):\n",
    "    e_z = np.power(np.e, z)\n",
    "    sigma = e_z / np.sum(e_z)\n",
    "    return sigma\n",
    "\n",
    "e_z = np.exp(z)\n",
    "sigma = softmax(z)\n",
    "print(f'z={z}, e**z={e_z}\\n')\n",
    "print(f'sigma={sigma}\\n')\n",
    "print(f'sum(sigma)={np.sum(sigma)}\\n')"
   ]
  },
  {
   "cell_type": "code",
   "execution_count": 13,
   "metadata": {},
   "outputs": [
    {
     "data": {
      "text/plain": [
       "<Figure size 640x480 with 1 Axes>"
      ]
     },
     "metadata": {},
     "output_type": "display_data"
    }
   ],
   "source": [
    "import torch.nn as nn # nn is for neural network\n",
    "import matplotlib.pyplot as plt\n",
    "\n",
    "elements = 25\n",
    "z = np.random.randint(-5, 5, elements)\n",
    "sigma = softmax(z)\n",
    "\n",
    "plt.plot(z+0.01*np.random.randn(elements), sigma+0.002*np.random.randn(elements), 'o', color=[0, 0, 0, 0.4])\n",
    "plt.ylabel('Softmaxed $\\sigma$')\n",
    "plt.xlabel('Original values (z)')\n",
    "plt.title(f'$\\sum\\sigma$={np.sum(sigma)}')\n",
    "plt.show()"
   ]
  },
  {
   "cell_type": "code",
   "execution_count": 14,
   "metadata": {},
   "outputs": [
    {
     "data": {
      "image/png": "[encoded data removed]",
      "text/plain": [
       "<Figure size 432x288 with 1 Axes>"
      ]
     },
     "metadata": {
      "needs_background": "light"
     },
     "output_type": "display_data"
    }
   ],
   "source": [
    "softfun = nn.Softmax( dim=0 )\n",
    "z = torch.Tensor(z)\n",
    "sigma = softfun( z )\n",
    "\n",
    "plt.plot(z+0.005*np.random.randn(elements), sigma+0.005*np.random.randn(elements), 'o', color=[0, 0, 0, 0.4])\n",
    "plt.ylabel('Softmaxed $\\sigma$')\n",
    "plt.xlabel('Original values (z)')\n",
    "plt.title(f'$\\sum\\sigma$={torch.sum(sigma)}')\n",
    "plt.show()"
   ]
  },
  {
   "cell_type": "code",
   "execution_count": 15,
   "metadata": {},
   "outputs": [],
   "source": [
    "# Shannon-entropy (H) is \"the amount of surprise\"\n",
    "# Describes the amount of information in an experiment"
   ]
  },
  {
   "attachments": {
    "image-2.png": {
     "image/png": "[encoded data removed]"
    },
    "image.png": {
     "image/png": "[encoded data removed]"
    }
   },
   "cell_type": "markdown",
   "metadata": {},
   "source": [
    "![image.png](attachment:image.png)\n",
    "\n",
    "![image-2.png](attachment:image-2.png)\n"
   ]
  },
  {
   "cell_type": "code",
   "execution_count": 16,
   "metadata": {},
   "outputs": [
    {
     "name": "stdout",
     "output_type": "stream",
     "text": [
      "H = 0.3466 [nats], Wrong!\n",
      "H = 0.5623 [nats], Correct!\n"
     ]
    }
   ],
   "source": [
    "# instead of log2 we can use ln. Unit is 'bits' for log2, 'nats' for ln.\n",
    "p = .25\n",
    "\n",
    "H = - ( p * np.log(p) )\n",
    "print(f'H = {np.round(H,4)} [nats], Wrong!')\n",
    "H = - ( p * np.log(p) + (1-p) * np.log(1-p) )\n",
    "print(f'H = {np.round(H,4)} [nats], Correct!')\n",
    "# This is binary entropy (meaning there are exactly two events). It is a loss function."
   ]
  },
  {
   "cell_type": "code",
   "execution_count": 17,
   "metadata": {},
   "outputs": [
    {
     "name": "stdout",
     "output_type": "stream",
     "text": [
      "Cross entropy: 1.3863\n"
     ]
    }
   ],
   "source": [
    "# Cross-entropy\n",
    "p = [1, 0]       # Probability values after model training\n",
    "q = [0.25, 0.75] # Probability values before model training\n",
    "H = 0\n",
    "for i in range(len(p)):\n",
    "    H -= p[i] * np.log(q[i])\n",
    "\n",
    "print(f'Cross entropy: {np.round(H,4)}') # They are not interchangable!"
   ]
  },
  {
   "cell_type": "code",
   "execution_count": 18,
   "metadata": {},
   "outputs": [
    {
     "data": {
      "text/plain": [
       "tensor(1.3863)"
      ]
     },
     "execution_count": 18,
     "metadata": {},
     "output_type": "execute_result"
    }
   ],
   "source": [
    "import torch.nn.functional as F\n",
    "\n",
    "q = torch.Tensor(q)\n",
    "p = torch.Tensor(p)\n",
    "F.binary_cross_entropy(q,p)"
   ]
  },
  {
   "cell_type": "code",
   "execution_count": 19,
   "metadata": {},
   "outputs": [
    {
     "name": "stdout",
     "output_type": "stream",
     "text": [
      "min=-1, max=40\n",
      "argmin=3, argmax=1\n"
     ]
    }
   ],
   "source": [
    "# min/max, argmin/argmax\n",
    "v = np.array([1, 40, 2, -1])\n",
    "print(f'min={np.min(v)}, max={np.max(v)}')\n",
    "print(f'argmin={np.argmin(v)}, argmax={np.argmax(v)}')"
   ]
  },
  {
   "cell_type": "code",
   "execution_count": 20,
   "metadata": {},
   "outputs": [
    {
     "name": "stdout",
     "output_type": "stream",
     "text": [
      "min=0\n",
      "min(axis=0)=[1 2 0]\n",
      "min(axis=1)=[1 0]\n"
     ]
    }
   ],
   "source": [
    "M = np.array(\n",
    "    [[1, 2, 9],\n",
    "    [5, 8, 0]]\n",
    ")\n",
    "\n",
    "print(f'min={np.min(M)}')                   # Minimum of matrix\n",
    "print(f'min(axis=0)={np.min(M,axis=0)}')    # Minimum of each row\n",
    "print(f'min(axis=1)={np.min(M,axis=1)}')    # Minimum of each column"
   ]
  },
  {
   "cell_type": "code",
   "execution_count": 21,
   "metadata": {},
   "outputs": [
    {
     "name": "stdout",
     "output_type": "stream",
     "text": [
      "min=-1\n",
      "max=40\n",
      "argmin=3\n",
      "argmax=1\n"
     ]
    }
   ],
   "source": [
    "v = torch.tensor([1, 40, 2, -1])\n",
    "print(f'min={torch.min(v)}')\n",
    "print(f'max={torch.max(v)}')\n",
    "print(f'argmin={torch.argmin(v)}')\n",
    "print(f'argmax={torch.argmax(v)}')"
   ]
  },
  {
   "cell_type": "code",
   "execution_count": 22,
   "metadata": {},
   "outputs": [
    {
     "name": "stdout",
     "output_type": "stream",
     "text": [
      "min=0\n",
      "min(axis=0)=tensor([1, 2, 0])\n",
      "argmin(axis=0)=tensor([0, 0, 1])\n"
     ]
    }
   ],
   "source": [
    "M = torch.tensor([\n",
    "    [1, 2, 9],\n",
    "    [5, 8, 0]                     \n",
    "])\n",
    "\n",
    "minAxis0=torch.min(M,axis=0)\n",
    "print(f'min={torch.min(M)}')\n",
    "print(f'min(axis=0)={minAxis0.values}')\n",
    "print(f'argmin(axis=0)={minAxis0.indices}')"
   ]
  },
  {
   "cell_type": "code",
   "execution_count": 23,
   "metadata": {},
   "outputs": [
    {
     "name": "stdout",
     "output_type": "stream",
     "text": [
      "mean=3.142857142857143. Equivalent to 3.142857142857143\n",
      "variance=4.809523809523809. Equivalent to 4.809523809523809\n"
     ]
    }
   ],
   "source": [
    "# mean and variance\n",
    "x = np.array([1, 2, 4, 6, 5, 4, 0])\n",
    "print(f'mean={np.sum(x)/len(x)}. Equivalent to {np.mean(x)}')\n",
    "print(f'variance={(1/(len(x)-1)) * np.sum( (x-np.mean(x))**2 )}. Equivalent to {np.var(x, ddof=1)}')"
   ]
  },
  {
   "cell_type": "code",
   "execution_count": 24,
   "metadata": {},
   "outputs": [
    {
     "data": {
      "image/png": "[encoded data removed]",
      "text/plain": [
       "<Figure size 432x288 with 1 Axes>"
      ]
     },
     "metadata": {
      "needs_background": "light"
     },
     "output_type": "display_data"
    }
   ],
   "source": [
    "# sampling variability\n",
    "height = np.random.randint(150, 190, 2_000_000)\n",
    "populationMean = np.mean(height)\n",
    "\n",
    "x = []\n",
    "y = []\n",
    "for i in range(10_000):\n",
    "    sample = np.random.choice(height, size=i+1, replace=True)\n",
    "    sampleMean = np.mean(sample)\n",
    "    x.append(i+1)\n",
    "    y.append(sampleMean)\n",
    "\n",
    "plt.plot(x, y, 'b-')\n",
    "plt.plot([0, 10_000], [populationMean, populationMean], 'r-')\n",
    "plt.title(f'populationMean={np.round(populationMean,2)}')\n",
    "plt.xlim(0, 10_000)\n",
    "plt.show()"
   ]
  },
  {
   "cell_type": "code",
   "execution_count": 25,
   "metadata": {},
   "outputs": [
    {
     "name": "stdout",
     "output_type": "stream",
     "text": [
      "[ 0.49671415 -0.1382643   0.64768854  1.52302986 -0.23415337 -0.23413696]\n",
      "[ 0.49671415 -0.1382643   0.64768854  1.52302986 -0.23415337 -0.23413696]\n"
     ]
    }
   ],
   "source": [
    "# random seeding\n",
    "np.random.seed(42)\n",
    "print(np.random.randn(6))\n",
    "np.random.seed(42)\n",
    "print(np.random.randn(6))"
   ]
  },
  {
   "cell_type": "code",
   "execution_count": 26,
   "metadata": {},
   "outputs": [
    {
     "name": "stdout",
     "output_type": "stream",
     "text": [
      "[ 0.49671415 -0.1382643   0.64768854  1.52302986 -0.23415337]\n",
      "[-0.23413696  1.57921282  0.76743473 -0.46947439  0.54256004]\n"
     ]
    }
   ],
   "source": [
    "seed1 = np.random.RandomState(42)\n",
    "seed2 = np.random.RandomState(20230530)\n",
    "print(seed1.randn(5))\n",
    "print(seed1.randn(5))"
   ]
  },
  {
   "cell_type": "code",
   "execution_count": 27,
   "metadata": {},
   "outputs": [
    {
     "name": "stdout",
     "output_type": "stream",
     "text": [
      "tensor([ 0.3367,  0.1288,  0.2345,  0.2303, -1.1229])\n",
      "tensor([ 0.3367,  0.1288,  0.2345,  0.2303, -1.1229])\n"
     ]
    }
   ],
   "source": [
    "torch.manual_seed(42)\n",
    "print(torch.randn(5))\n",
    "torch.manual_seed(42)\n",
    "print(torch.randn(5))\n"
   ]
  },
  {
   "cell_type": "code",
   "execution_count": 28,
   "metadata": {},
   "outputs": [
    {
     "data": {
      "image/png": "[encoded data removed]",
      "text/plain": [
       "<Figure size 432x288 with 1 Axes>"
      ]
     },
     "metadata": {
      "needs_background": "light"
     },
     "output_type": "display_data"
    }
   ],
   "source": [
    "# t-tests\n",
    "\n",
    "import scipy.stats as stats\n",
    "\n",
    "n1 = 30\n",
    "n2 = 40\n",
    "mu1 = 1\n",
    "mu2 = 2\n",
    "+0.15*np.random.randn(n2)\n",
    "data1 = mu1 + np.random.randn(n1)\n",
    "data2 = mu2 + np.random.randn(n2)\n",
    "\n",
    "plt.plot(np.zeros(n1)+0.08*np.random.randn(n1), data1, 'ro', markerfacecolor='w', markersize=14)\n",
    "plt.plot(np.zeros(n2)+1+0.08*np.random.randn(n2), data2, 'bs', markerfacecolor='w', markersize=14)\n",
    "plt.xlim([-1, 2])\n",
    "plt.xticks([0, 1], ['Group 1', 'Group 2'])\n",
    "plt.show()"
   ]
  },
  {
   "cell_type": "code",
   "execution_count": 29,
   "metadata": {},
   "outputs": [
    {
     "name": "stdout",
     "output_type": "stream",
     "text": [
      "-3.808180278904174\n",
      "0.0003031453087427739\n"
     ]
    }
   ],
   "source": [
    "t,p = stats.ttest_ind(data1,data2) # _ind is independent samples\n",
    "print(t) # (mu1 - mu2) / (standard_deviation / sqrt(n))\n",
    "print(p) # Probability that they come from the same distribution (< 0.05 usually means significantly different)"
   ]
  },
  {
   "cell_type": "code",
   "execution_count": 30,
   "metadata": {},
   "outputs": [
    {
     "name": "stdout",
     "output_type": "stream",
     "text": [
      "f(x)=2*x**2\n",
      "f'(x)=4*x\n"
     ]
    }
   ],
   "source": [
    "# derivatives\n",
    "import sympy as sym\n",
    "import sympy.plotting.plot as symplot\n",
    "\n",
    "x = sym.symbols('x')\n",
    "fx = 2*x**2\n",
    "df = sym.diff(fx,x)\n",
    "print(f'f(x)={fx}')\n",
    "print(f'f\\'(x)={df}')\n"
   ]
  },
  {
   "cell_type": "code",
   "execution_count": 31,
   "metadata": {},
   "outputs": [
    {
     "data": {
      "image/png": "[encoded data removed]",
      "text/plain": [
       "<Figure size 432x288 with 1 Axes>"
      ]
     },
     "metadata": {
      "needs_background": "light"
     },
     "output_type": "display_data"
    },
    {
     "data": {
      "image/png": "[encoded data removed]",
      "text/plain": [
       "<Figure size 432x288 with 1 Axes>"
      ]
     },
     "metadata": {
      "needs_background": "light"
     },
     "output_type": "display_data"
    }
   ],
   "source": [
    "symplot(fx,(x,-4,4),title='f(x)')\n",
    "plt.show()\n",
    "symplot(df,(x,-4,4),title='f\\'(x)')\n",
    "plt.show()"
   ]
  },
  {
   "cell_type": "code",
   "execution_count": 32,
   "metadata": {},
   "outputs": [
    {
     "name": "stdout",
     "output_type": "stream",
     "text": [
      "The functions\n"
     ]
    },
    {
     "data": {
      "text/plain": [
       "2*x**2"
      ]
     },
     "metadata": {},
     "output_type": "display_data"
    },
    {
     "data": {
      "text/plain": [
       "-3*x**4 + 4*x**3"
      ]
     },
     "metadata": {},
     "output_type": "display_data"
    },
    {
     "name": "stdout",
     "output_type": "stream",
     "text": [
      "Derivatives\n",
      "\n",
      "Wrong\n"
     ]
    },
    {
     "data": {
      "text/plain": [
       "4*x*(-12*x**3 + 12*x**2)"
      ]
     },
     "metadata": {},
     "output_type": "display_data"
    },
    {
     "name": "stdout",
     "output_type": "stream",
     "text": [
      "Manual\n"
     ]
    },
    {
     "data": {
      "text/plain": [
       "2*x**2*(-12*x**3 + 12*x**2) + 4*x*(-3*x**4 + 4*x**3)"
      ]
     },
     "metadata": {},
     "output_type": "display_data"
    },
    {
     "name": "stdout",
     "output_type": "stream",
     "text": [
      "Sympy\n"
     ]
    },
    {
     "data": {
      "text/plain": [
       "2*x**2*(-12*x**3 + 12*x**2) + 4*x*(-3*x**4 + 4*x**3)"
      ]
     },
     "metadata": {},
     "output_type": "display_data"
    }
   ],
   "source": [
    "from IPython.display import display\n",
    "x = sym.symbols('x')\n",
    "fx = 2*x**2\n",
    "gx = 4*x**3 - 3*x**4\n",
    "\n",
    "df = sym.diff(fx)\n",
    "dg = sym.diff(gx)\n",
    "\n",
    "manual = df*gx + dg*fx\n",
    "wrong = df*dg\n",
    "withsympy = sym.diff(fx*gx)\n",
    "\n",
    "print('The functions')\n",
    "display(fx)\n",
    "display(gx)\n",
    "\n",
    "print('Derivatives')\n",
    "print('')\n",
    "\n",
    "print('Wrong')\n",
    "display(wrong)\n",
    "\n",
    "print('Manual')\n",
    "display(manual)\n",
    "\n",
    "print('Sympy')\n",
    "display(withsympy)"
   ]
  },
  {
   "cell_type": "code",
   "execution_count": null,
   "metadata": {},
   "outputs": [],
   "source": []
  }
 ],
 "metadata": {
  "kernelspec": {
   "display_name": "Python 3",
   "language": "python",
   "name": "python3"
  },
  "language_info": {
   "codemirror_mode": {
    "name": "ipython",
    "version": 3
   },
   "file_extension": ".py",
   "mimetype": "text/x-python",
   "name": "python",
   "nbconvert_exporter": "python",
   "pygments_lexer": "ipython3",
   "version": "3.7.0"
  }
 },
 "nbformat": 4,
 "nbformat_minor": 5
}
