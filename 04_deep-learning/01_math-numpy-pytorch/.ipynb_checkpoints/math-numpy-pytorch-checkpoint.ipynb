{
 "cells": [
  {
   "cell_type": "code",
   "execution_count": 1,
   "id": "ccc54326",
   "metadata": {},
   "outputs": [],
   "source": [
    "# Vector and matrix transposing\n",
    "import numpy as np\n",
    "import torch"
   ]
  },
  {
   "cell_type": "code",
   "execution_count": 8,
   "id": "826d4bd4",
   "metadata": {},
   "outputs": [
    {
     "name": "stdout",
     "output_type": "stream",
     "text": [
      "v=[[1 2 3]]\n",
      "\n",
      "v.T=\n",
      "[[1]\n",
      " [2]\n",
      " [3]]\n"
     ]
    }
   ],
   "source": [
    "# numpy:\n",
    "v = np.array([ [1, 2, 3] ]) # row vector\n",
    "print(f'v={v}')\n",
    "print('')\n",
    "print(f'v.T=\\n{v.T}') # column vector"
   ]
  },
  {
   "cell_type": "code",
   "execution_count": 7,
   "id": "d7cff04a",
   "metadata": {},
   "outputs": [
    {
     "name": "stdout",
     "output_type": "stream",
     "text": [
      "v=[[1 2 3]]\n"
     ]
    }
   ],
   "source": [
    "print(f'v={v}') # .T does not transpose the original vector!"
   ]
  },
  {
   "cell_type": "code",
   "execution_count": 12,
   "id": "699b2376",
   "metadata": {},
   "outputs": [
    {
     "name": "stdout",
     "output_type": "stream",
     "text": [
      "v=\n",
      "[[1 2 3]\n",
      " [4 5 6]]\n",
      "\n",
      "v.T=\n",
      "[[1 4]\n",
      " [2 5]\n",
      " [3 6]]\n",
      "\n",
      "v.T.T=\n",
      "[[1 2 3]\n",
      " [4 5 6]]\n"
     ]
    }
   ],
   "source": [
    "m = np.array([ [1, 2, 3],\n",
    "               [4, 5, 6] ]) # 2 row matrix\n",
    "print(f'v=\\n{m}')\n",
    "print('')\n",
    "print(f'v.T=\\n{m.T}') # 3 row matrix\n",
    "print('')\n",
    "print(f'v.T.T=\\n{m.T.T}') # m.T.T is m"
   ]
  },
  {
   "cell_type": "code",
   "execution_count": 15,
   "id": "1890d66c",
   "metadata": {},
   "outputs": [
    {
     "name": "stdout",
     "output_type": "stream",
     "text": [
      "tensor([[1, 2, 3, 4]])\n",
      "\n",
      "tensor([[1],\n",
      "        [2],\n",
      "        [3],\n",
      "        [4]])\n"
     ]
    }
   ],
   "source": [
    "# torch:\n",
    "tv = torch.tensor([ [1, 2, 3, 4] ])\n",
    "print(tv)\n",
    "print('')\n",
    "print(tv.T)"
   ]
  },
  {
   "cell_type": "code",
   "execution_count": 19,
   "id": "3361c324",
   "metadata": {},
   "outputs": [
    {
     "name": "stdout",
     "output_type": "stream",
     "text": [
      "tensor([[1, 2, 3, 4],\n",
      "        [5, 6, 7, 8]])\n",
      "\n",
      "tensor([[1, 5],\n",
      "        [2, 6],\n",
      "        [3, 7],\n",
      "        [4, 8]])\n",
      "\n",
      "tensor([[1, 2, 3, 4],\n",
      "        [5, 6, 7, 8]])\n"
     ]
    }
   ],
   "source": [
    "m = torch.tensor([ [1, 2, 3, 4], [5, 6, 7, 8] ])\n",
    "print(m)\n",
    "print(f'\\n{m.T}')\n",
    "print(f'\\n{m.T.T}')"
   ]
  },
  {
   "cell_type": "code",
   "execution_count": 23,
   "id": "0a42219c",
   "metadata": {},
   "outputs": [
    {
     "name": "stdout",
     "output_type": "stream",
     "text": [
      "[0 1 2 3].T * [4 5 6 7] = 38\n",
      "Alternatively: np.sum([0 1 2 3]*[4 5 6 7])=38\n"
     ]
    }
   ],
   "source": [
    "# dot-product\n",
    "# for dot-product to work they need to be the same size and shape\n",
    "\n",
    "# numpy:\n",
    "v1 = np.array( [0, 1, 2, 3] )\n",
    "v2 = np.array( [4, 5, 6, 7] )\n",
    "print(f'{v1}.T * {v2} = {np.dot(v1, v2)}')\n",
    "print(f'Alternatively: np.sum({v1}*{v2})={np.sum( v1*v2 )}')"
   ]
  },
  {
   "cell_type": "code",
   "execution_count": 26,
   "id": "cbdec44f",
   "metadata": {},
   "outputs": [
    {
     "name": "stdout",
     "output_type": "stream",
     "text": [
      "tensor([0, 1, 2, 3]).T * tensor([4, 5, 6, 7]) = 38\n",
      "Alternatively: torch.sum(tensor([0, 1, 2, 3])*tensor([4, 5, 6, 7]))=38\n"
     ]
    }
   ],
   "source": [
    "# torch:\n",
    "v1 = torch.tensor( [0, 1, 2, 3] )\n",
    "v2 = torch.tensor( [4, 5, 6, 7] )\n",
    "print(f'{v1}.T * {v2} = {torch.dot(v1, v2)}')\n",
    "print(f'Alternatively: torch.sum({v1}*{v2})={torch.sum( v1*v2 )}')"
   ]
  },
  {
   "cell_type": "code",
   "execution_count": null,
   "id": "07feecbc",
   "metadata": {},
   "outputs": [],
   "source": []
  }
 ],
 "metadata": {
  "kernelspec": {
   "display_name": "Python 3 (ipykernel)",
   "language": "python",
   "name": "python3"
  },
  "language_info": {
   "codemirror_mode": {
    "name": "ipython",
    "version": 3
   },
   "file_extension": ".py",
   "mimetype": "text/x-python",
   "name": "python",
   "nbconvert_exporter": "python",
   "pygments_lexer": "ipython3",
   "version": "3.10.9"
  }
 },
 "nbformat": 4,
 "nbformat_minor": 5
}
