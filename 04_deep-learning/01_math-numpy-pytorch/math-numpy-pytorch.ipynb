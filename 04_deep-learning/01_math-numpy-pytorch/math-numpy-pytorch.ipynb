{
 "cells": [
  {
   "cell_type": "code",
   "execution_count": 2,
   "id": "ccc54326",
   "metadata": {},
   "outputs": [],
   "source": [
    "# Vector and matrix transposing\n",
    "import numpy as np\n",
    "import torch"
   ]
  },
  {
   "cell_type": "code",
   "execution_count": 3,
   "id": "826d4bd4",
   "metadata": {},
   "outputs": [
    {
     "name": "stdout",
     "output_type": "stream",
     "text": [
      "v=[[1 2 3]]\n",
      "\n",
      "v.T=\n",
      "[[1]\n",
      " [2]\n",
      " [3]]\n"
     ]
    }
   ],
   "source": [
    "# numpy:\n",
    "v = np.array([ [1, 2, 3] ]) # row vector (By convention, vectors are usually assumed to be columns)\n",
    "print(f'v={v}')\n",
    "print('')\n",
    "print(f'v.T=\\n{v.T}') # column vector"
   ]
  },
  {
   "cell_type": "code",
   "execution_count": 4,
   "id": "d7cff04a",
   "metadata": {},
   "outputs": [
    {
     "name": "stdout",
     "output_type": "stream",
     "text": [
      "v=[[1 2 3]]\n"
     ]
    }
   ],
   "source": [
    "print(f'v={v}') # .T does not transpose the original vector!"
   ]
  },
  {
   "cell_type": "code",
   "execution_count": 5,
   "id": "699b2376",
   "metadata": {},
   "outputs": [
    {
     "name": "stdout",
     "output_type": "stream",
     "text": [
      "v=\n",
      "[[1 2 3]\n",
      " [4 5 6]]\n",
      "\n",
      "v.T=\n",
      "[[1 4]\n",
      " [2 5]\n",
      " [3 6]]\n",
      "\n",
      "v.T.T=\n",
      "[[1 2 3]\n",
      " [4 5 6]]\n"
     ]
    }
   ],
   "source": [
    "m = np.array([ [1, 2, 3],\n",
    "               [4, 5, 6] ]) # 2 row matrix\n",
    "print(f'v=\\n{m}')\n",
    "print('')\n",
    "print(f'v.T=\\n{m.T}') # 3 row matrix\n",
    "print('')\n",
    "print(f'v.T.T=\\n{m.T.T}') # m.T.T is m"
   ]
  },
  {
   "cell_type": "code",
   "execution_count": 6,
   "id": "1890d66c",
   "metadata": {},
   "outputs": [
    {
     "name": "stdout",
     "output_type": "stream",
     "text": [
      "tensor([[1, 2, 3, 4]])\n",
      "\n",
      "tensor([[1],\n",
      "        [2],\n",
      "        [3],\n",
      "        [4]])\n"
     ]
    }
   ],
   "source": [
    "# torch:\n",
    "tv = torch.tensor([ [1, 2, 3, 4] ])\n",
    "print(tv)\n",
    "print('')\n",
    "print(tv.T)"
   ]
  },
  {
   "cell_type": "code",
   "execution_count": 7,
   "id": "3361c324",
   "metadata": {},
   "outputs": [
    {
     "name": "stdout",
     "output_type": "stream",
     "text": [
      "tensor([[1, 2, 3, 4],\n",
      "        [5, 6, 7, 8]])\n",
      "\n",
      "tensor([[1, 5],\n",
      "        [2, 6],\n",
      "        [3, 7],\n",
      "        [4, 8]])\n",
      "\n",
      "tensor([[1, 2, 3, 4],\n",
      "        [5, 6, 7, 8]])\n"
     ]
    }
   ],
   "source": [
    "m = torch.tensor([ [1, 2, 3, 4], [5, 6, 7, 8] ])\n",
    "print(m)\n",
    "print(f'\\n{m.T}')\n",
    "print(f'\\n{m.T.T}')"
   ]
  },
  {
   "cell_type": "code",
   "execution_count": 8,
   "id": "0a42219c",
   "metadata": {},
   "outputs": [
    {
     "name": "stdout",
     "output_type": "stream",
     "text": [
      "[0 1 2 3].T * [4 5 6 7] = 38\n",
      "Alternatively: np.sum([0 1 2 3]*[4 5 6 7])=38\n"
     ]
    }
   ],
   "source": [
    "# dot-product\n",
    "# for dot-product to work they need to be the same size and shape\n",
    "\n",
    "# numpy:\n",
    "v1 = np.array( [0, 1, 2, 3] )\n",
    "v2 = np.array( [4, 5, 6, 7] )\n",
    "print(f'{v1}.T * {v2} = {np.dot(v1, v2)}')\n",
    "print(f'Alternatively: np.sum({v1}*{v2})={np.sum( v1*v2 )}')"
   ]
  },
  {
   "cell_type": "code",
   "execution_count": 9,
   "id": "cbdec44f",
   "metadata": {},
   "outputs": [
    {
     "name": "stdout",
     "output_type": "stream",
     "text": [
      "tensor([0, 1, 2, 3]).T * tensor([4, 5, 6, 7]) = 38\n",
      "Alternatively: torch.sum(tensor([0, 1, 2, 3])*tensor([4, 5, 6, 7]))=38\n"
     ]
    }
   ],
   "source": [
    "# torch:\n",
    "v1 = torch.tensor( [0, 1, 2, 3] )\n",
    "v2 = torch.tensor( [4, 5, 6, 7] )\n",
    "print(f'{v1}.T * {v2} = {torch.dot(v1, v2)}')\n",
    "print(f'Alternatively: torch.sum({v1}*{v2})={torch.sum( v1*v2 )}')"
   ]
  },
  {
   "cell_type": "code",
   "execution_count": 19,
   "id": "07feecbc",
   "metadata": {},
   "outputs": [
    {
     "name": "stdout",
     "output_type": "stream",
     "text": [
      "A=\n",
      "[[ 0.69 -0.1  -0.1   0.76]\n",
      " [-0.39 -0.29  1.54  0.22]\n",
      " [ 0.98 -0.23 -1.    0.79]]\n",
      "\n",
      "A@B=\n",
      "[[ 0.08 -1.04 -0.45  0.    0.04]\n",
      " [-0.32  1.48 -0.79  0.38 -0.87]\n",
      " [ 0.37 -2.09 -0.14 -0.27  0.26]]\n",
      "\n",
      "A.T@C=\n",
      "[[-1.22 -0.24 -0.09  1.27  0.7  -1.03  0.09]\n",
      " [ 0.    0.19  0.39  0.33  0.71 -0.54 -0.62]\n",
      " [ 1.46 -0.68 -1.17 -2.83 -2.34  4.18  0.94]\n",
      " [-0.83 -0.58 -0.64  0.28 -0.3   0.56  0.64]]\n",
      "\n",
      "C.T@A=\n",
      "[[-1.22  0.    1.46 -0.83]\n",
      " [-0.24  0.19 -0.68 -0.58]\n",
      " [-0.09  0.39 -1.17 -0.64]\n",
      " [ 1.27  0.33 -2.83  0.28]\n",
      " [ 0.7   0.71 -2.34 -0.3 ]\n",
      " [-1.03 -0.54  4.18  0.56]\n",
      " [ 0.09 -0.62  0.94  0.64]]\n",
      "\n"
     ]
    }
   ],
   "source": [
    "# Matrix size: Row x Column\n",
    "# Two matrixes can be multiplied if AxB * BxC, and the size will be AxC\n",
    "A = np.random.randn(3, 4) # 3 rows 4 columns\n",
    "B = np.random.randn(4, 5)\n",
    "C = np.random.randn(3, 7)\n",
    "\n",
    "print(f'A=\\n{np.round(A, 2)}\\n')\n",
    "print(f'A@B=\\n{np.round(A@B, 2)}\\n')\n",
    "print(f'A.T@C=\\n{np.round(A.T@C, 2)}\\n')\n",
    "print(f'C.T@A=\\n{np.round(C.T@A, 2)}\\n')"
   ]
  },
  {
   "cell_type": "code",
   "execution_count": 20,
   "id": "c60e2975",
   "metadata": {},
   "outputs": [
    {
     "name": "stdout",
     "output_type": "stream",
     "text": [
      "A=\n",
      "tensor([[-0.5100,  1.1000,  1.2600,  0.1500],\n",
      "        [ 0.0500,  0.3800,  0.3200,  1.3900],\n",
      "        [ 1.7200, -0.0900,  0.0800, -0.3300]])\n",
      "\n",
      "A@B=\n",
      "tensor([[-3.6200, -0.1700, -0.6900, -1.3700, -2.6600],\n",
      "        [-0.0400, -0.8000,  0.3100,  0.4300,  0.4900],\n",
      "        [-0.4700,  4.1700,  1.9600, -1.1400, -0.9500]])\n",
      "\n"
     ]
    }
   ],
   "source": [
    "A = torch.randn(3, 4)\n",
    "B = torch.randn(4, 5)\n",
    "\n",
    "print(f'A=\\n{np.round(A, 2)}\\n')\n",
    "print(f'A@B=\\n{np.round(A@B, 2)}\\n')"
   ]
  },
  {
   "cell_type": "code",
   "execution_count": 22,
   "id": "1ae61226",
   "metadata": {},
   "outputs": [
    {
     "name": "stdout",
     "output_type": "stream",
     "text": [
      "A=\n",
      "tensor([[ 0.4000,  0.6700, -0.0400, -1.2300],\n",
      "        [-0.5700, -1.3000, -0.2800, -0.0100],\n",
      "        [ 0.2900, -0.4000, -1.4500, -0.6500]])\n",
      "\n",
      "A@B=\n",
      "tensor([[-1.7900,  2.5900,  1.5100, -0.7700, -2.0200],\n",
      "        [ 2.3200, -2.4400, -2.3600,  0.4600,  2.0200],\n",
      "        [ 2.6800,  0.6800,  1.6900,  1.5700,  1.7500]])\n",
      "\n"
     ]
    }
   ],
   "source": [
    "A = torch.randn(3, 4)\n",
    "B1 = np.random.randn(4, 5)\n",
    "\n",
    "print(f'A=\\n{np.round(A, 2)}\\n')\n",
    "print(f'A@B=\\n{np.round(A@B, 2)}\\n')"
   ]
  },
  {
   "attachments": {
    "image.png": {
     "image/png": "[encoded data removed]"
    }
   },
   "cell_type": "markdown",
   "id": "e680a99f",
   "metadata": {},
   "source": [
    "<h1>Softmax function</h1>\n",
    "\n",
    "![image.png](attachment:image.png)\n"
   ]
  },
  {
   "cell_type": "code",
   "execution_count": 37,
   "id": "f2283afd",
   "metadata": {},
   "outputs": [
    {
     "name": "stdout",
     "output_type": "stream",
     "text": [
      "z=[1, 2, 3], e**z=[ 2.71828183  7.3890561  20.08553692]\n",
      "\n",
      "sigma=[0.09003057 0.24472847 0.66524096]\n",
      "\n",
      "sum(sigma)=0.9999999999999999\n",
      "\n"
     ]
    }
   ],
   "source": [
    "z = [1, 2, 3]\n",
    "def softmax(z):\n",
    "    e_z = np.power(np.e, z)\n",
    "    sigma = e_z / np.sum(e_z)\n",
    "    return sigma\n",
    "\n",
    "e_z = np.exp(z)\n",
    "sigma = softmax(z)\n",
    "print(f'z={z}, e**z={e_z}\\n')\n",
    "print(f'sigma={sigma}\\n')\n",
    "print(f'sum(sigma)={np.sum(sigma)}\\n')"
   ]
  },
  {
   "cell_type": "code",
   "execution_count": 55,
   "id": "15193809",
   "metadata": {},
   "outputs": [
    {
     "data": {
      "image/png": "[encoded data removed]",
      "text/plain": [
       "<Figure size 640x480 with 1 Axes>"
      ]
     },
     "metadata": {},
     "output_type": "display_data"
    }
   ],
   "source": [
    "import torch.nn as nn # nn is for neural network\n",
    "import matplotlib.pyplot as plt\n",
    "\n",
    "elements = 25\n",
    "z = np.random.randint(-5, 5, elements)\n",
    "sigma = softmax(z)\n",
    "\n",
    "plt.plot(z+0.01*np.random.randn(elements), sigma+0.002*np.random.randn(elements), 'o', color=[0, 0, 0, 0.4])\n",
    "plt.ylabel('Softmaxed $\\sigma$')\n",
    "plt.xlabel('Original values (z)')\n",
    "plt.title(f'$\\sum\\sigma$={np.sum(sigma)}')\n",
    "plt.show()"
   ]
  },
  {
   "cell_type": "code",
   "execution_count": 58,
   "id": "3f3d8b29",
   "metadata": {},
   "outputs": [
    {
     "data": {
      "image/png": "[encoded data removed]",
      "text/plain": [
       "<Figure size 640x480 with 1 Axes>"
      ]
     },
     "metadata": {},
     "output_type": "display_data"
    }
   ],
   "source": [
    "softfun = nn.Softmax( dim=0 )\n",
    "z = torch.Tensor(z)\n",
    "sigma = softfun( z )\n",
    "\n",
    "plt.plot(z+0.01*np.random.randn(elements), sigma+0.002*np.random.randn(elements), 'o', color=[0, 0, 0, 0.4])\n",
    "plt.ylabel('Softmaxed $\\sigma$')\n",
    "plt.xlabel('Original values (z)')\n",
    "plt.title(f'$\\sum\\sigma$={torch.sum(sigma)}')\n",
    "plt.show()"
   ]
  },
  {
   "cell_type": "code",
   "execution_count": null,
   "id": "a7f34d49",
   "metadata": {},
   "outputs": [],
   "source": []
  }
 ],
 "metadata": {
  "kernelspec": {
   "display_name": "Python 3 (ipykernel)",
   "language": "python",
   "name": "python3"
  },
  "language_info": {
   "codemirror_mode": {
    "name": "ipython",
    "version": 3
   },
   "file_extension": ".py",
   "mimetype": "text/x-python",
   "name": "python",
   "nbconvert_exporter": "python",
   "pygments_lexer": "ipython3",
   "version": "3.10.9"
  }
 },
 "nbformat": 4,
 "nbformat_minor": 5
}
