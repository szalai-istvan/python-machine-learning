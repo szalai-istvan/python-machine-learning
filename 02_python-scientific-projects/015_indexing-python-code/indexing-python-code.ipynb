{
 "cells": [
  {
   "cell_type": "code",
   "execution_count": 10,
   "id": "40de053d",
   "metadata": {},
   "outputs": [],
   "source": [
    "import glob\n",
    "import re"
   ]
  },
  {
   "cell_type": "code",
   "execution_count": 7,
   "id": "2d73f639",
   "metadata": {},
   "outputs": [
    {
     "data": {
      "text/plain": [
       "['indexing-python-code.ipynb']"
      ]
     },
     "execution_count": 7,
     "metadata": {},
     "output_type": "execute_result"
    }
   ],
   "source": [
    "pyfiles = glob.glob('*ipynb')\n",
    "pyfiles"
   ]
  },
  {
   "cell_type": "code",
   "execution_count": 8,
   "id": "1a8be3fb",
   "metadata": {},
   "outputs": [],
   "source": [
    "allfiles = []\n",
    "for fil in pyfiles:\n",
    "    fid = open(fil, 'r')\n",
    "    content = fid.read()\n",
    "    allfiles.append(content)"
   ]
  },
  {
   "cell_type": "code",
   "execution_count": 9,
   "id": "3d7f5a96",
   "metadata": {},
   "outputs": [
    {
     "data": {
      "text/plain": [
       "['{\\n \"cells\": [\\n  {\\n   \"cell_type\": \"code\",\\n   \"execution_count\": 1,\\n   \"id\": \"f08c7cb1\",\\n   \"metadata\": {},\\n   \"outputs\": [],\\n   \"source\": [\\n    \"import glob\"\\n   ]\\n  },\\n  {\\n   \"cell_type\": \"code\",\\n   \"execution_count\": 7,\\n   \"id\": \"e7026b52\",\\n   \"metadata\": {},\\n   \"outputs\": [\\n    {\\n     \"data\": {\\n      \"text/plain\": [\\n       \"[\\'indexing-python-code.ipynb\\']\"\\n      ]\\n     },\\n     \"execution_count\": 7,\\n     \"metadata\": {},\\n     \"output_type\": \"execute_result\"\\n    }\\n   ],\\n   \"source\": [\\n    \"pyfiles = glob.glob(\\'*ipynb\\')\\\\n\",\\n    \"pyfiles\"\\n   ]\\n  },\\n  {\\n   \"cell_type\": \"code\",\\n   \"execution_count\": null,\\n   \"id\": \"208e3f4a\",\\n   \"metadata\": {},\\n   \"outputs\": [],\\n   \"source\": [\\n    \"for fil in pyfiles:\\\\n\",\\n    \"    fid = open(fil, \\'r\\')\\\\n\",\\n    \"    \"\\n   ]\\n  }\\n ],\\n \"metadata\": {\\n  \"kernelspec\": {\\n   \"display_name\": \"Python 3 (ipykernel)\",\\n   \"language\": \"python\",\\n   \"name\": \"python3\"\\n  },\\n  \"language_info\": {\\n   \"codemirror_mode\": {\\n    \"name\": \"ipython\",\\n    \"version\": 3\\n   },\\n   \"file_extension\": \".py\",\\n   \"mimetype\": \"text/x-python\",\\n   \"name\": \"python\",\\n   \"nbconvert_exporter\": \"python\",\\n   \"pygments_lexer\": \"ipython3\",\\n   \"version\": \"3.11.5\"\\n  }\\n },\\n \"nbformat\": 4,\\n \"nbformat_minor\": 5\\n}\\n']"
      ]
     },
     "execution_count": 9,
     "metadata": {},
     "output_type": "execute_result"
    }
   ],
   "source": [
    "allfiles"
   ]
  },
  {
   "cell_type": "code",
   "execution_count": 30,
   "id": "5b82a326",
   "metadata": {},
   "outputs": [
    {
     "data": {
      "text/plain": [
       "['glob.glob(', 'open(', '(']"
      ]
     },
     "execution_count": 30,
     "metadata": {},
     "output_type": "execute_result"
    }
   ],
   "source": [
    "functioncalls = []\n",
    "for file in allfiles:\n",
    "    for f in re.findall(r'[\\w.-]*\\(', file):\n",
    "        functioncalls.append(f)\n",
    "functioncalls"
   ]
  },
  {
   "cell_type": "code",
   "execution_count": 34,
   "id": "8a351d93",
   "metadata": {},
   "outputs": [
    {
     "data": {
      "text/plain": [
       "['glob.glob', 'open']"
      ]
     },
     "execution_count": 34,
     "metadata": {},
     "output_type": "execute_result"
    }
   ],
   "source": [
    "functioncalls = [i.strip()[:-1] for i in functioncalls if len(i) > 1]\n",
    "functioncalls"
   ]
  },
  {
   "cell_type": "code",
   "execution_count": null,
   "id": "c4d475c0",
   "metadata": {},
   "outputs": [],
   "source": []
  }
 ],
 "metadata": {
  "kernelspec": {
   "display_name": "Python 3 (ipykernel)",
   "language": "python",
   "name": "python3"
  },
  "language_info": {
   "codemirror_mode": {
    "name": "ipython",
    "version": 3
   },
   "file_extension": ".py",
   "mimetype": "text/x-python",
   "name": "python",
   "nbconvert_exporter": "python",
   "pygments_lexer": "ipython3",
   "version": "3.11.5"
  }
 },
 "nbformat": 4,
 "nbformat_minor": 5
}
