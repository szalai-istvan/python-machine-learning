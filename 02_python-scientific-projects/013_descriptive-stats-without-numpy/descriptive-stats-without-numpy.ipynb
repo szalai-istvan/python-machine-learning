{
 "cells": [
  {
   "cell_type": "markdown",
   "id": "abab7d4d",
   "metadata": {},
   "source": [
    "<div style=\"background:#ddffff;border-left: 6px solid #2196f3;\">\n",
    "<h1 style=\"text-align:center;\">Descriptive stats without numpy</h1>\n",
    "<hr style=\"width:65%;height:2px;border-width:1;color:gray;background-color:gray;\">\n",
    "<p style=\"padding-left:20px;padding-right:20px;\"></p>\n",
    "</div>"
   ]
  },
  {
   "cell_type": "code",
   "execution_count": 68,
   "id": "b12ce2df",
   "metadata": {},
   "outputs": [],
   "source": [
    "import numpy as np"
   ]
  },
  {
   "cell_type": "code",
   "execution_count": 69,
   "id": "d99a9671",
   "metadata": {},
   "outputs": [],
   "source": [
    "def randomData(N):\n",
    "    return list(np.random.randn(N))\n",
    "\n",
    "def mean(data):\n",
    "    return sum(data) / len(data)\n",
    "\n",
    "def median(data):\n",
    "    data = sorted(data)\n",
    "    length = len(data)\n",
    "    middle = length // 2\n",
    "    if length % 2 == 1:\n",
    "        return data[middle]\n",
    "    return mean(data[middle:middle+2])\n",
    "\n",
    "def printMeanAndMedian(data):\n",
    "    print(f'mean(data)      = {mean(data)}')\n",
    "    print(f'np.mean(data)   = {np.mean(data)}')\n",
    "    print(f'median(data)    = {median(data)}')\n",
    "    print(f'np.median(data) = {np.median(data)}')"
   ]
  },
  {
   "cell_type": "code",
   "execution_count": 70,
   "id": "6d1517f9",
   "metadata": {},
   "outputs": [
    {
     "name": "stdout",
     "output_type": "stream",
     "text": [
      "mean(data)      = 0.08991940768821344\n",
      "np.mean(data)   = 0.08991940768821344\n",
      "median(data)    = 0.2687598610343642\n",
      "np.median(data) = 0.2687598610343642\n"
     ]
    }
   ],
   "source": [
    "N = 11\n",
    "data = randomData(N)\n",
    "printMeanAndMedian(data)"
   ]
  },
  {
   "cell_type": "code",
   "execution_count": 71,
   "id": "c2e605e2",
   "metadata": {},
   "outputs": [],
   "source": [
    "# Frequency table\n",
    "# Generate values between 1 and 5\n",
    "# Create two lists: Unique values and their counts\n",
    "# Convert two lists into a dictionary\n",
    "\n",
    "def randomData(low, high, size):\n",
    "    return list(np.random.randint(low, high=high+1, size=size))\n",
    "\n",
    "def uniqueValues(data):\n",
    "    return list(set(data))\n",
    "\n",
    "def appearances(data):\n",
    "    counts = []\n",
    "    values = uniqueValues(data)\n",
    "    for v in values:\n",
    "        counts.append(count(data, v))\n",
    "    return data, values, counts\n",
    "    \n",
    "def count(data, n):\n",
    "    count = 0\n",
    "    for i in data:\n",
    "        if i == n:\n",
    "            count+=1\n",
    "    return count\n",
    "    \n",
    "def printResults(data):\n",
    "    data, values, counts = appearances(data)\n",
    "    print(f'data      = {data}')\n",
    "    print(f'values   = {values}')\n",
    "    print(f'counts    = {counts}')\n",
    "    print(f'sum(counts) = {sum(counts)} (len(data) = {len(data)})')\n",
    "\n",
    "def appearancesToDictionary(data):\n",
    "    data, values, counts = appearances(data)\n",
    "    d = {}\n",
    "    for i,v in enumerate(values):\n",
    "        d[v] = counts[i]\n",
    "    return d"
   ]
  },
  {
   "cell_type": "code",
   "execution_count": 72,
   "id": "13e4e793",
   "metadata": {},
   "outputs": [
    {
     "name": "stdout",
     "output_type": "stream",
     "text": [
      "data      = [5, 3, 2, 4, 5, 4, 2, 4, 3, 3, 1, 2, 2, 4, 3, 2, 1, 2, 4, 4]\n",
      "values   = [1, 2, 3, 4, 5]\n",
      "counts    = [2, 6, 4, 6, 2]\n",
      "sum(counts) = 20 (len(data) = 20)\n",
      "------\n"
     ]
    },
    {
     "data": {
      "text/plain": [
       "{1: 2, 2: 6, 3: 4, 4: 6, 5: 2}"
      ]
     },
     "execution_count": 72,
     "metadata": {},
     "output_type": "execute_result"
    }
   ],
   "source": [
    "data = randomData(1, 5, 20)\n",
    "printResults(data)\n",
    "print('------')\n",
    "appearancesToDictionary(data)"
   ]
  },
  {
   "cell_type": "code",
   "execution_count": 73,
   "id": "018341b2",
   "metadata": {},
   "outputs": [],
   "source": [
    "# Mode (most common value)\n",
    "# In case of more modes, we return them all\n",
    "\n",
    "def mode(data):\n",
    "    d = appearancesToDictionary(data)\n",
    "    m = max(d.values())\n",
    "    modes = []\n",
    "    for key in d.keys():\n",
    "        if d[key] == m:\n",
    "            modes.append(key)\n",
    "    return modes"
   ]
  },
  {
   "cell_type": "code",
   "execution_count": 74,
   "id": "f8f6f54e",
   "metadata": {},
   "outputs": [
    {
     "data": {
      "text/plain": [
       "[2, 4]"
      ]
     },
     "execution_count": 74,
     "metadata": {},
     "output_type": "execute_result"
    }
   ],
   "source": [
    "mode(data)"
   ]
  },
  {
   "cell_type": "code",
   "execution_count": 83,
   "id": "883fe1a2",
   "metadata": {},
   "outputs": [],
   "source": [
    "# Standard deviation\n",
    "\n",
    "def std(data, ddof=1):\n",
    "    avg = mean(data)\n",
    "    summary = [(x - avg)**2 for x in data]\n",
    "    summary = sum(summary)\n",
    "    summary /= (len(data) - ddof)\n",
    "    return summary ** 0.5"
   ]
  },
  {
   "cell_type": "code",
   "execution_count": 92,
   "id": "9680ef0c",
   "metadata": {},
   "outputs": [
    {
     "name": "stdout",
     "output_type": "stream",
     "text": [
      "std(data)            = 2.866037483054146\n",
      "np.std(data, ddof=1) = 2.866037483054148\n"
     ]
    }
   ],
   "source": [
    "data = randomData(1, 10, 200)\n",
    "print(f'std(data)            = {std(data)}')\n",
    "print(f'np.std(data, ddof=1) = {np.std(data, ddof=1)}')"
   ]
  },
  {
   "cell_type": "code",
   "execution_count": null,
   "id": "ca0af1e1",
   "metadata": {},
   "outputs": [],
   "source": []
  }
 ],
 "metadata": {
  "kernelspec": {
   "display_name": "Python 3 (ipykernel)",
   "language": "python",
   "name": "python3"
  },
  "language_info": {
   "codemirror_mode": {
    "name": "ipython",
    "version": 3
   },
   "file_extension": ".py",
   "mimetype": "text/x-python",
   "name": "python",
   "nbconvert_exporter": "python",
   "pygments_lexer": "ipython3",
   "version": "3.11.5"
  }
 },
 "nbformat": 4,
 "nbformat_minor": 5
}
