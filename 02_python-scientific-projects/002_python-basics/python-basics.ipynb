{
 "cells": [
  {
   "cell_type": "code",
   "execution_count": 2,
   "id": "994500c6",
   "metadata": {},
   "outputs": [
    {
     "name": "stdout",
     "output_type": "stream",
     "text": [
      "4\n",
      "3\n"
     ]
    }
   ],
   "source": [
    "a = 4\n",
    "b = 3\n",
    "c = 7\n",
    "print(a)\n",
    "print(b)"
   ]
  },
  {
   "cell_type": "code",
   "execution_count": 3,
   "id": "e9b23462",
   "metadata": {},
   "outputs": [
    {
     "name": "stdout",
     "output_type": "stream",
     "text": [
      "Hello Mike\n"
     ]
    }
   ],
   "source": [
    "d = 'Hello'\n",
    "e = \"Mike\"\n",
    "print(d, e)"
   ]
  },
  {
   "cell_type": "code",
   "execution_count": 4,
   "id": "364edbaf",
   "metadata": {},
   "outputs": [
    {
     "name": "stdout",
     "output_type": "stream",
     "text": [
      "Variable   Type     Data/Info\n",
      "-----------------------------\n",
      "a          int      4\n",
      "b          int      3\n",
      "c          int      7\n",
      "d          str      Hello\n",
      "e          str      Mike\n",
      "x          int      7\n",
      "y          int      4\n",
      "z          float    4.0\n"
     ]
    }
   ],
   "source": [
    "%whos"
   ]
  },
  {
   "cell_type": "code",
   "execution_count": 5,
   "id": "196d760d",
   "metadata": {},
   "outputs": [
    {
     "name": "stdout",
     "output_type": "stream",
     "text": [
      "Variable   Type     Data/Info\n",
      "-----------------------------\n",
      "a          int      4\n",
      "b          int      3\n",
      "c          int      7\n",
      "d          str      Hello\n",
      "e          str      Mike\n",
      "x          int      7\n",
      "y          int      4\n",
      "z          float    4.0\n"
     ]
    }
   ],
   "source": [
    "x = 7\n",
    "y = 4\n",
    "z = 4.0\n",
    "%whos"
   ]
  },
  {
   "cell_type": "code",
   "execution_count": 6,
   "id": "d89ef42e",
   "metadata": {},
   "outputs": [
    {
     "name": "stdout",
     "output_type": "stream",
     "text": [
      "1\n"
     ]
    }
   ],
   "source": [
    "print(x-6)"
   ]
  },
  {
   "cell_type": "code",
   "execution_count": 7,
   "id": "736703d5",
   "metadata": {},
   "outputs": [
    {
     "name": "stdout",
     "output_type": "stream",
     "text": [
      "28.699999999999996\n"
     ]
    }
   ],
   "source": [
    "print(x * 4.1)"
   ]
  },
  {
   "cell_type": "code",
   "execution_count": 2,
   "id": "4f907a9d",
   "metadata": {},
   "outputs": [
    {
     "name": "stdout",
     "output_type": "stream",
     "text": [
      "x: 5\n",
      "y: 8\n"
     ]
    },
    {
     "data": {
      "text/plain": [
       "str"
      ]
     },
     "execution_count": 2,
     "metadata": {},
     "output_type": "execute_result"
    }
   ],
   "source": [
    "x = input('x: ')\n",
    "y = input('y: ')\n",
    "type(x)"
   ]
  },
  {
   "cell_type": "code",
   "execution_count": 3,
   "id": "7db30e96",
   "metadata": {},
   "outputs": [],
   "source": [
    "x = float(x)\n",
    "y = float(y)"
   ]
  },
  {
   "cell_type": "code",
   "execution_count": null,
   "id": "6cef4b0d",
   "metadata": {},
   "outputs": [],
   "source": [
    "# Skipped the rest of the Python basics section, because I'm already familiar with it. "
   ]
  }
 ],
 "metadata": {
  "kernelspec": {
   "display_name": "Python 3 (ipykernel)",
   "language": "python",
   "name": "python3"
  },
  "language_info": {
   "codemirror_mode": {
    "name": "ipython",
    "version": 3
   },
   "file_extension": ".py",
   "mimetype": "text/x-python",
   "name": "python",
   "nbconvert_exporter": "python",
   "pygments_lexer": "ipython3",
   "version": "3.11.5"
  }
 },
 "nbformat": 4,
 "nbformat_minor": 5
}
